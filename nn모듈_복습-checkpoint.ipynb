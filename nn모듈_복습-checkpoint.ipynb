{
 "cells": [
  {
   "cell_type": "code",
   "execution_count": 1,
   "metadata": {},
   "outputs": [],
   "source": [
    "import torch"
   ]
  },
  {
   "cell_type": "markdown",
   "metadata": {},
   "source": [
    "## 하이퍼 파라미터 세팅"
   ]
  },
  {
   "cell_type": "code",
   "execution_count": 13,
   "metadata": {},
   "outputs": [],
   "source": [
    "N, D_in, H, D_out=64,1000,100,10\n",
    "\n",
    "x=torch.randn(N, D_in)\n",
    "y=torch.randn(N, D_out)\n",
    "learning_rate=1e-6"
   ]
  },
  {
   "cell_type": "markdown",
   "metadata": {},
   "source": [
    "## 시퀀스 모델 구성(nn module 사용)"
   ]
  },
  {
   "cell_type": "code",
   "execution_count": 14,
   "metadata": {},
   "outputs": [],
   "source": [
    "model=torch.nn.Sequential(torch.nn.Linear(D_in, H), \n",
    "                          torch.nn.ReLU(), \n",
    "                          torch.nn.Linear(H, D_out))"
   ]
  },
  {
   "cell_type": "markdown",
   "metadata": {},
   "source": [
    "## loss함수 정의"
   ]
  },
  {
   "cell_type": "code",
   "execution_count": 15,
   "metadata": {},
   "outputs": [],
   "source": [
    "loss_fn=torch.nn.MSELoss(reduction='sum')\n",
    "#loss함수로는 MSE(Mean Squared Error사용), 출력값은 다 더하였다(reduction='sum')"
   ]
  },
  {
   "cell_type": "markdown",
   "metadata": {},
   "source": [
    "### 예측값 정의, loss 계산, 모델 초기화, backward 진행, gradient 갱신"
   ]
  },
  {
   "cell_type": "code",
   "execution_count": 16,
   "metadata": {},
   "outputs": [
    {
     "name": "stdout",
     "output_type": "stream",
     "text": [
      "99 614.814697265625\n",
      "199 572.8095703125\n",
      "299 534.9938354492188\n",
      "399 500.865966796875\n",
      "499 470.13323974609375\n"
     ]
    }
   ],
   "source": [
    "for t in range(500):\n",
    "    y_pred=model(x)\n",
    "    \n",
    "    loss=loss_fn(y_pred,y)\n",
    "    if t%100==99:\n",
    "        print(t,loss.item())\n",
    "    \n",
    "    model.zero_grad() #역전파 진행 전 변화도를 0으로 만듦\n",
    "    \n",
    "    loss.backward() #역전파 진행\n",
    "    \n",
    "    with torch.no_grad():\n",
    "        for param in model.parameters():\n",
    "            param -=learning_rate *param.grad\n",
    "            #계산된 parameter들의 loss의 gradient에 learning_rate를 곱한 값을 \n",
    "            #현재의 가중치에서 빼줌으로 학습을 진행함"
   ]
  },
  {
   "cell_type": "code",
   "execution_count": null,
   "metadata": {},
   "outputs": [],
   "source": []
  }
 ],
 "metadata": {
  "kernelspec": {
   "display_name": "Python 3",
   "language": "python",
   "name": "python3"
  },
  "language_info": {
   "codemirror_mode": {
    "name": "ipython",
    "version": 3
   },
   "file_extension": ".py",
   "mimetype": "text/x-python",
   "name": "python",
   "nbconvert_exporter": "python",
   "pygments_lexer": "ipython3",
   "version": "3.7.4"
  }
 },
 "nbformat": 4,
 "nbformat_minor": 2
}
