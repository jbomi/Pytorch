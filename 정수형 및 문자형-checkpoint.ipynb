{
 "cells": [
  {
   "cell_type": "code",
   "execution_count": 3,
   "metadata": {},
   "outputs": [
    {
     "name": "stdout",
     "output_type": "stream",
     "text": [
      "3\n",
      "<class 'int'>\n",
      "coding\n",
      "<class 'str'>\n",
      "0.3\n",
      "<class 'float'>\n"
     ]
    }
   ],
   "source": [
    "a=3\n",
    "print(a)\n",
    "print(type(a))\n",
    "b='coding'\n",
    "print(b)\n",
    "print(type(b))\n",
    "c=0.3\n",
    "print(c)\n",
    "print(type(c))"
   ]
  },
  {
   "cell_type": "code",
   "execution_count": 7,
   "metadata": {},
   "outputs": [
    {
     "name": "stdout",
     "output_type": "stream",
     "text": [
      "6\n",
      "9\n",
      "codingcoding\n",
      "codingcodingcodingcoding\n"
     ]
    }
   ],
   "source": [
    "print(a+a)\n",
    "print(a*3)\n",
    "print(b+b)\n",
    "print(b*4)"
   ]
  },
  {
   "cell_type": "code",
   "execution_count": 15,
   "metadata": {},
   "outputs": [
    {
     "name": "stdout",
     "output_type": "stream",
     "text": [
      "<class 'str'>\n",
      "3\n",
      "3\n"
     ]
    }
   ],
   "source": [
    "c='3'\n",
    "print(type(c))\n",
    "d=int(c)\n",
    "print(d)\n",
    "e=str(d)\n",
    "print(e)"
   ]
  },
  {
   "cell_type": "code",
   "execution_count": 13,
   "metadata": {},
   "outputs": [
    {
     "name": "stdout",
     "output_type": "stream",
     "text": [
      "<class 'str'>\n",
      "0.7\n",
      "0.7\n"
     ]
    }
   ],
   "source": [
    "c='0.7'\n",
    "print(type(c))\n",
    "d=float(c)\n",
    "print(d)\n",
    "e=str(d)\n",
    "print(e)"
   ]
  }
 ],
 "metadata": {
  "kernelspec": {
   "display_name": "Python 3",
   "language": "python",
   "name": "python3"
  },
  "language_info": {
   "codemirror_mode": {
    "name": "ipython",
    "version": 3
   },
   "file_extension": ".py",
   "mimetype": "text/x-python",
   "name": "python",
   "nbconvert_exporter": "python",
   "pygments_lexer": "ipython3",
   "version": "3.7.4"
  }
 },
 "nbformat": 4,
 "nbformat_minor": 2
}
