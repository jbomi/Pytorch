{
 "cells": [
  {
   "cell_type": "code",
   "execution_count": 3,
   "metadata": {},
   "outputs": [],
   "source": [
    "import torch\n",
    "import torch.nn.functional as F"
   ]
  },
  {
   "cell_type": "code",
   "execution_count": 4,
   "metadata": {},
   "outputs": [],
   "source": [
    "from torch.utils.data import Dataset\n",
    "from torch.utils.data import DataLoader"
   ]
  },
  {
   "cell_type": "markdown",
   "metadata": {},
   "source": [
    " torch.utils.data.Dataset: 파이토치에서 데이터셋을 제공하는 추상 클래스"
   ]
  },
  {
   "cell_type": "code",
   "execution_count": 6,
   "metadata": {},
   "outputs": [],
   "source": [
    "class CustomDataset(torch.utils.data.Dataset):\n",
    "    def __init__(self):#데이터셋의 전처리를 해주는 부분\n",
    "        \"\" \n",
    "    def __len__(self):# 데이터셋의 길이. 즉, 총 샘플의 수를 적어주는 부분\n",
    "        \"\"\n",
    "    def __getitem__(self,idx):#데이터셋에서 특정 1개의 샘플을 가져오는 함수\n",
    "        \"\""
   ]
  },
  {
   "cell_type": "code",
   "execution_count": 8,
   "metadata": {},
   "outputs": [],
   "source": [
    "#Dataset 상속\n",
    "class CustomDataset(Dataset):\n",
    "    def __init__(self):\n",
    "        self.x_data=[[73,80,75],\n",
    "                     [93,88,93],\n",
    "                     [89,91,90],\n",
    "                     [96,98,100],\n",
    "                    [73,66,70]]\n",
    "        self.y_data=[[152],[185],[180],[196],[142]]\n",
    "    \n",
    "    #총 데이터의 개수 리턴    \n",
    "    def __len__(self):\n",
    "        return len(self.x_data)\n",
    "    \n",
    "    #인덱스를 입력받아 그에 맵핑되는 입출력 데이터를 파이토치의 tensor형태로 리턴\n",
    "    def __getitem__(self,idx):\n",
    "        x=torch.FloatTensor(self.x_data[idx])\n",
    "        y=torch.FloatTensor(self.y_data[idx])\n",
    "        return x, y"
   ]
  },
  {
   "cell_type": "code",
   "execution_count": 9,
   "metadata": {},
   "outputs": [],
   "source": [
    "dataset=CustomDataset()\n",
    "dataloader=DataLoader(dataset,batch_size=2,shuffle=True)"
   ]
  },
  {
   "cell_type": "code",
   "execution_count": 11,
   "metadata": {},
   "outputs": [],
   "source": [
    "model=torch.nn.Linear(3,1)\n",
    "optimizer=torch.optim.SGD(model.parameters(),lr=1e-5)"
   ]
  },
  {
   "cell_type": "code",
   "execution_count": 14,
   "metadata": {},
   "outputs": [
    {
     "name": "stdout",
     "output_type": "stream",
     "text": [
      "Epoch    0/20 Batch 1/3 Cost:28519.500000\n",
      "Epoch    0/20 Batch 2/3 Cost:10464.904297\n",
      "Epoch    0/20 Batch 3/3 Cost:1901.800903\n",
      "Epoch    1/20 Batch 1/3 Cost:1143.252441\n",
      "Epoch    1/20 Batch 2/3 Cost:240.961487\n",
      "Epoch    1/20 Batch 3/3 Cost:91.514084\n",
      "Epoch    2/20 Batch 1/3 Cost:33.415550\n",
      "Epoch    2/20 Batch 2/3 Cost:13.413549\n",
      "Epoch    2/20 Batch 3/3 Cost:2.812899\n",
      "Epoch    3/20 Batch 1/3 Cost:4.677478\n",
      "Epoch    3/20 Batch 2/3 Cost:0.336303\n",
      "Epoch    3/20 Batch 3/3 Cost:1.485798\n",
      "Epoch    4/20 Batch 1/3 Cost:0.399896\n",
      "Epoch    4/20 Batch 2/3 Cost:2.153521\n",
      "Epoch    4/20 Batch 3/3 Cost:6.227666\n",
      "Epoch    5/20 Batch 1/3 Cost:1.734707\n",
      "Epoch    5/20 Batch 2/3 Cost:3.637042\n",
      "Epoch    5/20 Batch 3/3 Cost:0.128318\n",
      "Epoch    6/20 Batch 1/3 Cost:2.466802\n",
      "Epoch    6/20 Batch 2/3 Cost:2.561248\n",
      "Epoch    6/20 Batch 3/3 Cost:0.162741\n",
      "Epoch    7/20 Batch 1/3 Cost:0.327507\n",
      "Epoch    7/20 Batch 2/3 Cost:2.263328\n",
      "Epoch    7/20 Batch 3/3 Cost:5.553050\n",
      "Epoch    8/20 Batch 1/3 Cost:1.306329\n",
      "Epoch    8/20 Batch 2/3 Cost:4.126692\n",
      "Epoch    8/20 Batch 3/3 Cost:0.252585\n",
      "Epoch    9/20 Batch 1/3 Cost:1.969026\n",
      "Epoch    9/20 Batch 2/3 Cost:0.166066\n",
      "Epoch    9/20 Batch 3/3 Cost:5.698539\n",
      "Epoch   10/20 Batch 1/3 Cost:3.929464\n",
      "Epoch   10/20 Batch 2/3 Cost:3.543402\n",
      "Epoch   10/20 Batch 3/3 Cost:0.005394\n",
      "Epoch   11/20 Batch 1/3 Cost:1.785756\n",
      "Epoch   11/20 Batch 2/3 Cost:4.280473\n",
      "Epoch   11/20 Batch 3/3 Cost:1.096938\n",
      "Epoch   12/20 Batch 1/3 Cost:0.139039\n",
      "Epoch   12/20 Batch 2/3 Cost:2.158074\n",
      "Epoch   12/20 Batch 3/3 Cost:5.975673\n",
      "Epoch   13/20 Batch 1/3 Cost:1.731644\n",
      "Epoch   13/20 Batch 2/3 Cost:3.636169\n",
      "Epoch   13/20 Batch 3/3 Cost:0.137201\n",
      "Epoch   14/20 Batch 1/3 Cost:1.860389\n",
      "Epoch   14/20 Batch 2/3 Cost:0.711473\n",
      "Epoch   14/20 Batch 3/3 Cost:5.241204\n",
      "Epoch   15/20 Batch 1/3 Cost:1.369534\n",
      "Epoch   15/20 Batch 2/3 Cost:1.067961\n",
      "Epoch   15/20 Batch 3/3 Cost:6.120747\n",
      "Epoch   16/20 Batch 1/3 Cost:1.591186\n",
      "Epoch   16/20 Batch 2/3 Cost:4.085147\n",
      "Epoch   16/20 Batch 3/3 Cost:0.088516\n",
      "Epoch   17/20 Batch 1/3 Cost:0.771024\n",
      "Epoch   17/20 Batch 2/3 Cost:4.137775\n",
      "Epoch   17/20 Batch 3/3 Cost:0.188030\n",
      "Epoch   18/20 Batch 1/3 Cost:0.151870\n",
      "Epoch   18/20 Batch 2/3 Cost:1.817999\n",
      "Epoch   18/20 Batch 3/3 Cost:6.203775\n",
      "Epoch   19/20 Batch 1/3 Cost:1.570173\n",
      "Epoch   19/20 Batch 2/3 Cost:3.840442\n",
      "Epoch   19/20 Batch 3/3 Cost:0.319245\n",
      "Epoch   20/20 Batch 1/3 Cost:4.074575\n",
      "Epoch   20/20 Batch 2/3 Cost:0.564953\n",
      "Epoch   20/20 Batch 3/3 Cost:0.385132\n"
     ]
    }
   ],
   "source": [
    "nb_epochs=20\n",
    "for epoch in range(nb_epochs+1):\n",
    "    for batch_idx, samples in enumerate(dataloader):\n",
    "        #print(batch_idx)\n",
    "        #print(samples)\n",
    "        x_train, y_train=samples\n",
    "        #H(x) 계산\n",
    "        prediction=model(x_train)\n",
    "        \n",
    "        #cost 계산\n",
    "        cost=F.mse_loss(prediction, y_train)\n",
    "        \n",
    "        #cost로 H(x) 계산\n",
    "        optimizer.zero_grad()\n",
    "        cost.backward()\n",
    "        optimizer.step()\n",
    "        \n",
    "        print('Epoch {:4d}/{} Batch {}/{} Cost:{:.6f}'.format(\n",
    "        epoch,nb_epochs,batch_idx+1,len(dataloader),cost.item()))"
   ]
  },
  {
   "cell_type": "code",
   "execution_count": 15,
   "metadata": {},
   "outputs": [
    {
     "name": "stdout",
     "output_type": "stream",
     "text": [
      "훈련 후 입력이 73,80,75 일때의 예측값:  tensor([[151.5749]], grad_fn=<AddmmBackward>)\n"
     ]
    }
   ],
   "source": [
    "#임의의 입력 [73,80,75]를 선언\n",
    "new_var=torch.FloatTensor([[73,80,75]])\n",
    "#입력한 값 [73,80,75]에 대해서 예측값 y를 리턴받아서 pred_y 에 저장\n",
    "pred_y=model(new_var)\n",
    "print(\"훈련 후 입력이 73,80,75 일때의 예측값: \",pred_y)"
   ]
  },
  {
   "cell_type": "code",
   "execution_count": null,
   "metadata": {},
   "outputs": [],
   "source": []
  }
 ],
 "metadata": {
  "kernelspec": {
   "display_name": "Python 3",
   "language": "python",
   "name": "python3"
  },
  "language_info": {
   "codemirror_mode": {
    "name": "ipython",
    "version": 3
   },
   "file_extension": ".py",
   "mimetype": "text/x-python",
   "name": "python",
   "nbconvert_exporter": "python",
   "pygments_lexer": "ipython3",
   "version": "3.7.4"
  }
 },
 "nbformat": 4,
 "nbformat_minor": 2
}
