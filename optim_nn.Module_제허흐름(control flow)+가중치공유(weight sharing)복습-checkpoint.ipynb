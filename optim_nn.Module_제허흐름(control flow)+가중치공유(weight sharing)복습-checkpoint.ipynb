{
 "cells": [
  {
   "cell_type": "markdown",
   "metadata": {},
   "source": [
    "## optim"
   ]
  },
  {
   "cell_type": "code",
   "execution_count": 1,
   "metadata": {},
   "outputs": [],
   "source": [
    "import torch"
   ]
  },
  {
   "cell_type": "code",
   "execution_count": 3,
   "metadata": {},
   "outputs": [
    {
     "name": "stdout",
     "output_type": "stream",
     "text": [
      "99 613.3704833984375\n",
      "199 597.5864868164062\n",
      "299 582.4161987304688\n",
      "399 567.7054443359375\n",
      "499 553.438232421875\n"
     ]
    }
   ],
   "source": [
    "N, D_in, H, D_out=64,1000,100,10\n",
    "\n",
    "x=torch.randn(N, D_in)\n",
    "y=torch.randn(N, D_out)\n",
    "learning_rate=1e-6\n",
    "\n",
    "model=torch.nn.Sequential(torch.nn.Linear(D_in, H),\n",
    "                         torch.nn.ReLU(),\n",
    "                         torch.nn.Linear(H, D_out))\n",
    "loss_fn=torch.nn.MSELoss(reduction='sum')\n",
    "optimizer=torch.optim.Adam(model.parameters(),lr=learning_rate)\n",
    "for t in range(500):\n",
    "    y_pred=model(x)\n",
    "    \n",
    "    loss=loss_fn(y_pred,y)\n",
    "    if t%100==99:\n",
    "        print(t, loss.item())\n",
    "        \n",
    "    optimizer.zero_grad()\n",
    "    \n",
    "    loss.backward()\n",
    "    \n",
    "    optimizer.step() #optimizer의 step함수를 호출하면 매개변수가 갱신된다.\n",
    "    "
   ]
  },
  {
   "cell_type": "markdown",
   "metadata": {},
   "source": [
    "## nn.Module"
   ]
  },
  {
   "cell_type": "code",
   "execution_count": 4,
   "metadata": {},
   "outputs": [],
   "source": [
    "import torch"
   ]
  },
  {
   "cell_type": "code",
   "execution_count": 6,
   "metadata": {},
   "outputs": [],
   "source": [
    "class TwoLayerNet(torch.nn.Module):\n",
    "    def __init__(self, D_in, H, D_out):\n",
    "        super(TwoLayerNet,self).__init__()\n",
    "        self.linear1=torch.nn.Linear(D_in, H)\n",
    "        self.linear2=torch.nn.Linear(H, D_out)\n",
    "        \n",
    "    def forward(self,x):\n",
    "        h_relu=self.linear1(x).clamp(min=0)\n",
    "        y_pred=self.linear2(h_relu)\n",
    "        return y_pred"
   ]
  },
  {
   "cell_type": "markdown",
   "metadata": {},
   "source": [
    "### hyper parameter setting, loss function, optim 정의"
   ]
  },
  {
   "cell_type": "code",
   "execution_count": 7,
   "metadata": {},
   "outputs": [],
   "source": [
    "N, D_in, H, D_out=64,1000,100,10\n",
    "\n",
    "x=torch.randn(N, D_in)\n",
    "y=torch.randn(N, D_out)\n",
    "\n",
    "model=TwoLayerNet(D_in, H, D_out)\n",
    "\n",
    "criterion=torch.nn.MSELoss(reduction='sum')\n",
    "optimizer=torch.optim.SGD(model.parameters(),lr=1e-6)"
   ]
  },
  {
   "cell_type": "markdown",
   "metadata": {},
   "source": [
    "### forward 단계"
   ]
  },
  {
   "cell_type": "code",
   "execution_count": 8,
   "metadata": {},
   "outputs": [
    {
     "name": "stdout",
     "output_type": "stream",
     "text": [
      "99 636.7079467773438\n",
      "199 589.9893798828125\n",
      "299 548.9774169921875\n",
      "399 513.0668334960938\n",
      "499 481.0459289550781\n"
     ]
    }
   ],
   "source": [
    "for t in range(500):\n",
    "    y_pred=model(x)\n",
    "    \n",
    "    loss=criterion(y_pred,y)\n",
    "    if t%100==99:\n",
    "        print(t,loss.item())\n",
    "    \n",
    "    optimizer.zero_grad()\n",
    "    loss.backward()\n",
    "    optimizer.step()"
   ]
  },
  {
   "cell_type": "markdown",
   "metadata": {},
   "source": [
    "## 제어흐름(control Flow)+가중치 공유(weight sharing)"
   ]
  },
  {
   "cell_type": "code",
   "execution_count": 9,
   "metadata": {},
   "outputs": [],
   "source": [
    "import random\n",
    "import torch"
   ]
  },
  {
   "cell_type": "code",
   "execution_count": 16,
   "metadata": {},
   "outputs": [],
   "source": [
    "class DynamicNet(torch.nn.Module):\n",
    "    def __init__(self, D_in, H, D_out):\n",
    "        super(DynamicNet, self).__init__()\n",
    "        self.input_linear=torch.nn.Linear(D_in, H)\n",
    "        self.middle_linear=torch.nn.Linear(H,H)\n",
    "        self.output_linear=torch.nn.Linear(H, D_out)\n",
    "    \n",
    "    def forward(self,x):\n",
    "        h_relu=self.input_linear(x).clamp(min=0)\n",
    "        for _ in range(random.randint(0,3)):\n",
    "            h_relu=self.middle_linear(h_relu).clamp(min=0)\n",
    "        y_pred=self.output_linear(h_relu)\n",
    "        return y_pred"
   ]
  },
  {
   "cell_type": "markdown",
   "metadata": {},
   "source": [
    "### hyper parameter setting"
   ]
  },
  {
   "cell_type": "code",
   "execution_count": 17,
   "metadata": {},
   "outputs": [],
   "source": [
    "N, D_in, H, D_out= 64,1000,100,10\n",
    "\n",
    "x=torch.randn(N, D_in)\n",
    "y=torch.randn(N, D_out)\n",
    "\n",
    "model=DynamicNet(D_in, H, D_out)\n",
    "criterion=torch.nn.MSELoss(reduction='sum')\n",
    "optimizer=torch.optim.SGD(model.parameters(),lr=1e-4, momentum=0.9)\n"
   ]
  },
  {
   "cell_type": "markdown",
   "metadata": {},
   "source": [
    "### forward 단계"
   ]
  },
  {
   "cell_type": "code",
   "execution_count": 18,
   "metadata": {},
   "outputs": [
    {
     "name": "stdout",
     "output_type": "stream",
     "text": [
      "99 10.302642822265625\n",
      "199 1.4481722116470337\n",
      "299 5.881565093994141\n",
      "399 0.22353500127792358\n",
      "499 0.3174876868724823\n"
     ]
    }
   ],
   "source": [
    "for t in range(500):\n",
    "    y_pred=model(x)\n",
    "    \n",
    "    loss=criterion(y_pred,y)\n",
    "    if t % 100==99:\n",
    "        print(t, loss.item())\n",
    "        \n",
    "    optimizer.zero_grad()\n",
    "    loss.backward()\n",
    "    optimizer.step()"
   ]
  },
  {
   "cell_type": "code",
   "execution_count": null,
   "metadata": {},
   "outputs": [],
   "source": []
  }
 ],
 "metadata": {
  "kernelspec": {
   "display_name": "Python 3",
   "language": "python",
   "name": "python3"
  },
  "language_info": {
   "codemirror_mode": {
    "name": "ipython",
    "version": 3
   },
   "file_extension": ".py",
   "mimetype": "text/x-python",
   "name": "python",
   "nbconvert_exporter": "python",
   "pygments_lexer": "ipython3",
   "version": "3.7.4"
  }
 },
 "nbformat": 4,
 "nbformat_minor": 2
}
