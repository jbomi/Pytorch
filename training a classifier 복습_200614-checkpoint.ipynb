{
 "cells": [
  {
   "cell_type": "code",
   "execution_count": 2,
   "metadata": {},
   "outputs": [],
   "source": [
    "import torch\n",
    "import torchvision\n",
    "import torchvision.transforms as transforms"
   ]
  },
  {
   "cell_type": "code",
   "execution_count": 3,
   "metadata": {},
   "outputs": [
    {
     "name": "stdout",
     "output_type": "stream",
     "text": [
      "Files already downloaded and verified\n",
      "Files already downloaded and verified\n"
     ]
    }
   ],
   "source": [
    "transform=transforms.Compose([transforms.ToTensor(),\n",
    "                             transforms.Normalize((0.5,0.5,0.5),(0.5,0.5,0.5))])\n",
    "#transforms.Compose 데이터 전처리 패키지\n",
    "#transforms.ToTensor 데이터 타입을 tensor형태로 변경\n",
    "#transfroms.Normalize() 이미지의 경우 픽셀 값 하나는 0~255값을 가짐\n",
    "# 하지만 ToTensor()로 타입 변경시 0~1사이 값으로 바뀜\n",
    "#transforms.Normalize((),())를 이용하여 -1~1사이 값으로 normalized 시킴\n",
    "\"\"\"Normalize 두가지 연산\"\"\"\n",
    "\"\"\"scaling: 데이터의 scale을 줄여줌\"\"\"\n",
    "\"\"\"centering: 데이터의 중심을 원점으로 맞춰줌\"\"\"\n",
    "\"\"\"ToTensor()를 해주면 scaling을 해주고\"\"\"\n",
    "\"\"\"Normalize를 해주면 centering+rescaling를 해준것\"\"\"\n",
    "trainset=torchvision.datasets.CIFAR10(root='./data',train=True,\n",
    "                                                 download=True,transform=transform)\n",
    "#root:경로지정, train: train or test 데이터를 받아옴\n",
    "#transform: 사전에 설정해놓은 데이터 처리 형태\n",
    "#download 데이터 셋이 없을때\n",
    "trainloader=torch.utils.data.DataLoader(trainset,batch_size=4,\n",
    "                                       shuffle=True,num_workers=2)\n",
    "#dataset: 불러올 데이터 셋\n",
    "#batch_size=batch단위 만큼 데이터를 뽑아옴\n",
    "#shuffle: 데이터 shuffle 할것인가?\n",
    "\"\"\"?: num_workers의 역할은?\"\"\"\n",
    "testset=torchvision.datasets.CIFAR10(root='./data',train=False,\n",
    "                                   download=True,transform=transform)\n",
    "testloader=torch.utils.data.DataLoader(testset,batch_size=4,\n",
    "                                      shuffle=False,num_workers=2)\n",
    "\n",
    "classes=('plane','car','bird','cat','deer','dog','frog','horse','ship','truck')"
   ]
  },
  {
   "cell_type": "markdown",
   "metadata": {},
   "source": [
    "---------------------------------------------2020_06_15"
   ]
  },
  {
   "cell_type": "code",
   "execution_count": 4,
   "metadata": {},
   "outputs": [
    {
     "data": {
      "image/png": "[encoded data removed]",
      "text/plain": [
       "<Figure size 432x288 with 1 Axes>"
      ]
     },
     "metadata": {
      "needs_background": "light"
     },
     "output_type": "display_data"
    },
    {
     "name": "stdout",
     "output_type": "stream",
     "text": [
      "        bird         cat         dog         cat\n"
     ]
    },
    {
     "data": {
      "text/plain": [
       "'그렇다면 아래 그림과 맞는 폭을 찾아보자=>>%12s'"
      ]
     },
     "execution_count": 4,
     "metadata": {},
     "output_type": "execute_result"
    }
   ],
   "source": [
    "import matplotlib.pyplot as plt\n",
    "import numpy as np\n",
    "\n",
    "#functions to show an image\n",
    "\n",
    "def imshow(img):\n",
    "    img=img/2+0.5 #unnormalize\n",
    "    npimg=img.numpy()\n",
    "    plt.imshow(np.transpose(npimg,(1,2,0)))#np.transpose(해당배열, 배열 크기)\n",
    "    #np.transpose: 전치행렬, 행렬의 행과 열을 바꾸기\n",
    "    #a.T\n",
    "    #np.transpose(a)\n",
    "    #np.swapaxes(a,axis1,axis2)\n",
    "    plt.show()\n",
    "    \n",
    "#get some random training images\n",
    "dataiter=iter(trainloader)\n",
    "images,labels=dataiter.next()\n",
    "\n",
    "#show images\n",
    "imshow(torchvision.utils.make_grid(images))\n",
    "\"\"\"?: make_grid 양옆 눈금그리는 함수인가\"\"\"\n",
    "\"\"\"그림 4개만 나오게 하는게 어디서 정의되는걸까==> batch_size\"\"\"\n",
    "\"\"\"grid 눈금 사이 값 어디서 정의하는걸까\"\"\"\n",
    "#print labels(정답)\n",
    "print(''.join('%12s' %classes[labels[j]] for j in range(4)))\n",
    "\"\"\"%5s는 문자열 형태에 왜 5의 역할==>폭 지정, 5만큼의 폭을 지정하고 오른쪽 배열 \"\"\"\n",
    "\"\"\"그렇다면 아래 그림과 맞는 폭을 찾아보자=>>%12s\"\"\""
   ]
  },
  {
   "cell_type": "markdown",
   "metadata": {},
   "source": [
    "----------------------------------------------2020.06.16"
   ]
  },
  {
   "cell_type": "markdown",
   "metadata": {},
   "source": [
    "# Convolutional Neural Network 정의하기"
   ]
  },
  {
   "cell_type": "code",
   "execution_count": 5,
   "metadata": {},
   "outputs": [
    {
     "name": "stdout",
     "output_type": "stream",
     "text": [
      "Net(\n",
      "  (conv1): Conv2d(3, 6, kernel_size=(5, 5), stride=(1, 1))\n",
      "  (pool): MaxPool2d(kernel_size=2, stride=2, padding=0, dilation=1, ceil_mode=False)\n",
      "  (conv2): Conv2d(6, 16, kernel_size=(5, 5), stride=(1, 1))\n",
      "  (fc1): Linear(in_features=400, out_features=120, bias=True)\n",
      "  (fc2): Linear(in_features=120, out_features=84, bias=True)\n",
      "  (fc3): Linear(in_features=84, out_features=10, bias=True)\n",
      ")\n"
     ]
    }
   ],
   "source": [
    "import torch.nn as nn\n",
    "import torch.nn.functional as F\n",
    "\n",
    "class Net(nn.Module):\n",
    "    def __init__(self):\n",
    "        super(Net,self).__init__()\n",
    "        self.conv1=nn.Conv2d(3,6,5)\n",
    "        #3 입력 이미지 채널, 6 출력 이미지 채널, 5*5 컨벌루젼 kernel\n",
    "        self.pool=nn.MaxPool2d(2,2)\n",
    "        # maxpool window (2,2)\n",
    "        self.conv2=nn.Conv2d(6,16,5)\n",
    "        #y=W(eight)x+b(ias)\n",
    "        self.fc1=nn.Linear(16*5*5,120) #linear(weight,bias), 이미지 차원 5*5\n",
    "        #in_features, out_features\n",
    "        self.fc2=nn.Linear(120,84)\n",
    "        self.fc3=nn.Linear(84,10)\n",
    "        \n",
    "    def forward(self,x):\n",
    "        x=self.pool(F.relu(self.conv1(x)))\n",
    "        x=self.pool(F.relu(self.conv2(x)))\n",
    "        x=x.view(-1,16*5*5)\n",
    "        x=F.relu(self.fc1(x))\n",
    "        x=F.relu(self.fc2(x))\n",
    "        x=self.fc3(x)\n",
    "        return x\n",
    "    \n",
    "net=Net()\n",
    "print(net)"
   ]
  },
  {
   "cell_type": "markdown",
   "metadata": {},
   "source": [
    "# loss function과 optimizer정의하기"
   ]
  },
  {
   "cell_type": "code",
   "execution_count": 6,
   "metadata": {},
   "outputs": [],
   "source": [
    "import torch.optim as optim\n",
    "\n",
    "criterion=nn.CrossEntropyLoss()\n",
    "optimizer=optim.SGD(net.parameters(),lr=0.01,momentum=0.9)"
   ]
  },
  {
   "cell_type": "markdown",
   "metadata": {},
   "source": [
    "------------------------------------------------------------20.06.27"
   ]
  },
  {
   "cell_type": "markdown",
   "metadata": {},
   "source": [
    "# Train the network"
   ]
  },
  {
   "cell_type": "code",
   "execution_count": 7,
   "metadata": {
    "scrolled": true
   },
   "outputs": [
    {
     "name": "stdout",
     "output_type": "stream",
     "text": [
      "[1, 2000] loss: 2.080\n",
      "[1, 4000] loss: 1.965\n",
      "[1, 6000] loss: 1.934\n",
      "[1, 8000] loss: 1.956\n",
      "[1,10000] loss: 1.935\n",
      "[1,12000] loss: 1.941\n",
      "[2, 2000] loss: 1.983\n",
      "[2, 4000] loss: 2.001\n",
      "[2, 6000] loss: 1.980\n",
      "[2, 8000] loss: 1.998\n",
      "[2,10000] loss: 1.993\n",
      "[2,12000] loss: 2.049\n",
      "Finished Training\n"
     ]
    }
   ],
   "source": [
    "for epoch in range(2): #loop over the dataset multiple times\n",
    "    running_loss=0.0\n",
    "    \n",
    "    for i, data in enumerate(trainloader,0):\n",
    "        #get the inputs; data is a list of [inputs, labels]\n",
    "        inputs, labels= data\n",
    "        \n",
    "        #zero the parameter gradients\n",
    "        optimizer.zero_grad()\n",
    "        \n",
    "        #forward + backward+optimize\n",
    "        outputs=net(inputs)\n",
    "        loss=criterion(outputs,labels)\n",
    "        loss.backward()\n",
    "        optimizer.step()\n",
    "        \n",
    "        #print statistics\n",
    "        running_loss +=loss.item()\n",
    "        if i %2000==1999: #print every 2000 mini=batchs\n",
    "            print('[%d,%5d] loss: %.3f'%(epoch+1,i+1,running_loss/2000))\n",
    "            running_loss=0.0\n",
    "            \n",
    "print('Finished Training')"
   ]
  },
  {
   "cell_type": "markdown",
   "metadata": {},
   "source": [
    "_________________________________________ 20.06.28"
   ]
  },
  {
   "cell_type": "code",
   "execution_count": 8,
   "metadata": {},
   "outputs": [],
   "source": [
    "PATH='./cifar_net.pth'\n",
    "torch.save(net.state_dict(),PATH)"
   ]
  },
  {
   "cell_type": "markdown",
   "metadata": {},
   "source": [
    "# test the network on the test data"
   ]
  },
  {
   "cell_type": "code",
   "execution_count": 10,
   "metadata": {},
   "outputs": [
    {
     "data": {
      "image/png": "[encoded data removed]",
      "text/plain": [
       "<Figure size 432x288 with 1 Axes>"
      ]
     },
     "metadata": {
      "needs_background": "light"
     },
     "output_type": "display_data"
    },
    {
     "name": "stdout",
     "output_type": "stream",
     "text": [
      "GroundTruth :    cat  ship  ship plane\n"
     ]
    }
   ],
   "source": [
    "dataiter=iter(testloader)\n",
    "images,labels=dataiter.next()\n",
    "\n",
    "#print images\n",
    "imshow(torchvision.utils.make_grid(images))\n",
    "print('GroundTruth : ',' '.join('%5s' %classes[labels[j]] for j in range(4)))"
   ]
  },
  {
   "cell_type": "code",
   "execution_count": 11,
   "metadata": {},
   "outputs": [
    {
     "data": {
      "text/plain": [
       "<All keys matched successfully>"
      ]
     },
     "execution_count": 11,
     "metadata": {},
     "output_type": "execute_result"
    }
   ],
   "source": [
    "net=Net()\n",
    "net.load_state_dict(torch.load(PATH))"
   ]
  },
  {
   "cell_type": "code",
   "execution_count": 12,
   "metadata": {},
   "outputs": [],
   "source": [
    "outputs=net(images)"
   ]
  },
  {
   "cell_type": "code",
   "execution_count": null,
   "metadata": {},
   "outputs": [],
   "source": []
  },
  {
   "cell_type": "code",
   "execution_count": null,
   "metadata": {},
   "outputs": [],
   "source": []
  }
 ],
 "metadata": {
  "kernelspec": {
   "display_name": "Python 3",
   "language": "python",
   "name": "python3"
  },
  "language_info": {
   "codemirror_mode": {
    "name": "ipython",
    "version": 3
   },
   "file_extension": ".py",
   "mimetype": "text/x-python",
   "name": "python",
   "nbconvert_exporter": "python",
   "pygments_lexer": "ipython3",
   "version": "3.7.6"
  }
 },
 "nbformat": 4,
 "nbformat_minor": 4
}
