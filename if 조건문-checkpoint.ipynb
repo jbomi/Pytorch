{
 "cells": [
  {
   "cell_type": "code",
   "execution_count": 27,
   "metadata": {},
   "outputs": [
    {
     "name": "stdout",
     "output_type": "stream",
     "text": [
      "175cm 은 168cm 보다 크다.\n"
     ]
    }
   ],
   "source": [
    "bomi=168\n",
    "hyojeong=175\n",
    "if bomi<hyojeong:\n",
    "    print('{}cm 은 {}cm 보다 크다.'.format(hyojeong,bomi))"
   ]
  },
  {
   "cell_type": "code",
   "execution_count": 11,
   "metadata": {},
   "outputs": [
    {
     "name": "stdout",
     "output_type": "stream",
     "text": [
      "[1, 2, 3, 4, 5]\n"
     ]
    }
   ],
   "source": [
    "a=[1,2,3,4,5]\n",
    "if 2 in a:\n",
    "    print(a)"
   ]
  },
  {
   "cell_type": "code",
   "execution_count": 12,
   "metadata": {},
   "outputs": [
    {
     "name": "stdout",
     "output_type": "stream",
     "text": [
      "4\n",
      "5\n"
     ]
    }
   ],
   "source": [
    "for i in [1,2,3,4,5]:\n",
    "    if i>3:\n",
    "        print(i)"
   ]
  },
  {
   "cell_type": "code",
   "execution_count": 15,
   "metadata": {},
   "outputs": [
    {
     "name": "stdout",
     "output_type": "stream",
     "text": [
      "73는 100보다 작다.\n"
     ]
    }
   ],
   "source": [
    "a=73\n",
    "b=100\n",
    "if a<b:\n",
    "    print('{}는 {}보다 작다.'.format(a,b))\n",
    "else:\n",
    "    print('{}는 {}보다 작지 않다'.format(a,b))"
   ]
  },
  {
   "cell_type": "code",
   "execution_count": 22,
   "metadata": {},
   "outputs": [
    {
     "name": "stdout",
     "output_type": "stream",
     "text": [
      "버스 타고 가자\n"
     ]
    }
   ],
   "source": [
    "money=3000\n",
    "if money>=5000:\n",
    "    print('택시 타고 가자')\n",
    "elif money>=1000:\n",
    "    print('버스 타고 가자')\n",
    "else:\n",
    "    print('걸어가자....')"
   ]
  },
  {
   "cell_type": "code",
   "execution_count": 26,
   "metadata": {},
   "outputs": [
    {
     "name": "stdout",
     "output_type": "stream",
     "text": [
      "핸드폰 은/는 야채도 아니고 과일도 아니고 고기도 아니다.\n"
     ]
    }
   ],
   "source": [
    "a=['오이','상추','고추']\n",
    "b=['사과','수박']\n",
    "c=['닭','소','돼지']\n",
    "d='핸드폰'\n",
    "if d in a:\n",
    "    print('{}는 야채이다.'.format(d))\n",
    "elif d in b:\n",
    "    print('{}는 과일이다.'.format(d))\n",
    "elif d in c:\n",
    "    print('{}는 고기이다.'.format(d))\n",
    "else:\n",
    "    print('{} 은/는 야채도 아니고 과일도 아니고 고기도 아니다.'.format(d))"
   ]
  }
 ],
 "metadata": {
  "kernelspec": {
   "display_name": "Python 3",
   "language": "python",
   "name": "python3"
  },
  "language_info": {
   "codemirror_mode": {
    "name": "ipython",
    "version": 3
   },
   "file_extension": ".py",
   "mimetype": "text/x-python",
   "name": "python",
   "nbconvert_exporter": "python",
   "pygments_lexer": "ipython3",
   "version": "3.7.4"
  }
 },
 "nbformat": 4,
 "nbformat_minor": 2
}
