{
 "cells": [
  {
   "cell_type": "markdown",
   "metadata": {},
   "source": [
    "# 신경망 정의하기"
   ]
  },
  {
   "cell_type": "code",
   "execution_count": 8,
   "metadata": {},
   "outputs": [],
   "source": [
    "%matplotlib inline"
   ]
  },
  {
   "cell_type": "code",
   "execution_count": 9,
   "metadata": {},
   "outputs": [],
   "source": [
    "import torch"
   ]
  },
  {
   "cell_type": "code",
   "execution_count": 10,
   "metadata": {},
   "outputs": [],
   "source": [
    "import torch.nn as nn"
   ]
  },
  {
   "cell_type": "code",
   "execution_count": 11,
   "metadata": {},
   "outputs": [],
   "source": [
    "import torch.nn.functional as F"
   ]
  },
  {
   "cell_type": "code",
   "execution_count": 25,
   "metadata": {},
   "outputs": [
    {
     "name": "stdout",
     "output_type": "stream",
     "text": [
      "Net(\n",
      "  (conv1): Conv2d(1, 6, kernel_size=(5, 5), stride=(1, 1))\n",
      "  (conv2): Conv2d(6, 16, kernel_size=(5, 5), stride=(1, 1))\n",
      "  (fc1): Linear(in_features=400, out_features=120, bias=True)\n",
      "  (fc2): Linear(in_features=120, out_features=84, bias=True)\n",
      "  (fc3): Linear(in_features=84, out_features=10, bias=True)\n",
      ")\n"
     ]
    }
   ],
   "source": [
    "class Net(nn.Module):\n",
    "    \n",
    "    def __init__(self): #초기화 함수\n",
    "        super(Net,self).__init__()\n",
    "        # 1 input image channel, 6 output channels, 5*5 square convolution\n",
    "        #kernel=filter와 같음, filter size 는 5*5\n",
    "        self.conv1=nn.Conv2d(1,6,5)# 입력 채널 수, 출력 채널 수, 필터의 크기\n",
    "        self.conv2=nn.Conv2d(6,16,5)# 입력 채널 수, 출력 채널 수, 필터의 크기\n",
    "        #an affine operation: y=Wx+b\n",
    "        self.fc1=nn.Linear(16*5*5,120) # output_channel_num*height*width\n",
    "                                       # input_image_dimension 5*5\n",
    "                                       # 120= output sample의 size\n",
    "        self.fc2=nn.Linear(120,84)\n",
    "        self.fc3=nn.Linear(84,10)\n",
    "        \n",
    "    def forward(self,x):\n",
    "        #Max pooling over a (2,2) window\n",
    "        x=F.max_pool2d(F.relu(self.conv1(x)),(2,2))\n",
    "        #if the size is a squqre you can only specify a single number\n",
    "        x=F.max_pool2d(F.relu(self.conv2(x)),2)\n",
    "        x=x.view(-1,self.num_flat_features(x))\n",
    "        x=F.relu(self.fc1(x))\n",
    "        x=F.relu(self.fc2(x))\n",
    "        x=self.fc3(x)\n",
    "        return x\n",
    "        \n",
    "    def num_flat_features(self,x):\n",
    "        size=x.size()[1:] #all dimension except the batch dimension\n",
    "        num_features=1\n",
    "        for s in size:\n",
    "            num_features *=s\n",
    "        return num_features\n",
    "        \n",
    "net=Net()\n",
    "print(net)"
   ]
  },
  {
   "cell_type": "markdown",
   "metadata": {},
   "source": [
    "## forward 함수만 정의하고 나면, 변화도를 계산하는 backward 함수는 autograd를 사용하여 자동으로 정의됨. forward 함수에서는 어떠한 tensor연산을 이용해도 됨"
   ]
  },
  {
   "cell_type": "markdown",
   "metadata": {},
   "source": [
    "## 모델 학습 가능한 매개변수들은 net.parameters()에 의해 반환됨"
   ]
  },
  {
   "cell_type": "code",
   "execution_count": 26,
   "metadata": {},
   "outputs": [
    {
     "name": "stdout",
     "output_type": "stream",
     "text": [
      "10\n",
      "torch.Size([6, 1, 5, 5])\n"
     ]
    }
   ],
   "source": [
    "params=list(net.parameters())\n",
    "print(len(params))\n",
    "print(params[0].size()) #conv1's weight"
   ]
  },
  {
   "cell_type": "code",
   "execution_count": 27,
   "metadata": {},
   "outputs": [
    {
     "name": "stdout",
     "output_type": "stream",
     "text": [
      "tensor([[-0.0667,  0.1168, -0.0270,  0.0105,  0.1367,  0.1500,  0.1310,  0.0292,\n",
      "          0.1249, -0.0259]], grad_fn=<AddmmBackward>)\n",
      "torch.Size([1, 10])\n"
     ]
    }
   ],
   "source": [
    "input=torch.randn(1,1,32,32)\n",
    "out=net(input)\n",
    "#print(input)\n",
    "#print(input.size())\n",
    "print(out)\n",
    "print(out.size())"
   ]
  },
  {
   "cell_type": "markdown",
   "metadata": {},
   "source": [
    "## 모든 매개변수의 변화도 버퍼(gradient buffer)를 0으로 설정하고, 무작위 값으로 역전파한다"
   ]
  },
  {
   "cell_type": "code",
   "execution_count": 28,
   "metadata": {},
   "outputs": [],
   "source": [
    "net.zero_grad()\n",
    "out.backward(torch.randn(1,10))"
   ]
  },
  {
   "cell_type": "markdown",
   "metadata": {},
   "source": [
    "# 손실 함수(Loss function)"
   ]
  },
  {
   "cell_type": "markdown",
   "metadata": {},
   "source": [
    "## 손실함수 예: 평균제곱오차 계산 nn.MSELoss"
   ]
  },
  {
   "cell_type": "code",
   "execution_count": 29,
   "metadata": {},
   "outputs": [
    {
     "name": "stdout",
     "output_type": "stream",
     "text": [
      "tensor(1.3380, grad_fn=<MseLossBackward>)\n"
     ]
    }
   ],
   "source": [
    "output=net(input)\n",
    "target=torch.randn(10)\n",
    "target=target.view(1,-1)\n",
    "criterion=nn.MSELoss()\n",
    "\n",
    "loss=criterion(output,target)\n",
    "print(loss)"
   ]
  },
  {
   "cell_type": "code",
   "execution_count": 30,
   "metadata": {},
   "outputs": [
    {
     "name": "stdout",
     "output_type": "stream",
     "text": [
      "<MseLossBackward object at 0x000002CD3E6A9208>\n",
      "<AddmmBackward object at 0x000002CD3E6A9B88>\n",
      "<AccumulateGrad object at 0x000002CD3E6A9208>\n"
     ]
    }
   ],
   "source": [
    "print(loss.grad_fn) #MSELoss\n",
    "print(loss.grad_fn.next_functions[0][0]) #linear\n",
    "print(loss.grad_fn.next_functions[0][0].next_functions[0][0]) #ReLu"
   ]
  },
  {
   "cell_type": "markdown",
   "metadata": {},
   "source": [
    "# 역전파 (Backprop)"
   ]
  },
  {
   "cell_type": "markdown",
   "metadata": {},
   "source": [
    "## loss.backward(): 오차 역전파"
   ]
  },
  {
   "cell_type": "code",
   "execution_count": 31,
   "metadata": {},
   "outputs": [
    {
     "name": "stdout",
     "output_type": "stream",
     "text": [
      "conv1.bias.grad before backward\n",
      "tensor([0., 0., 0., 0., 0., 0.])\n",
      "conv1.bias.grad after backward\n",
      "tensor([-0.0121, -0.0040, -0.0015, -0.0077, -0.0043, -0.0173])\n"
     ]
    }
   ],
   "source": [
    "net.zero_grad() #zeros the gradient buffers of all parameters\n",
    "\n",
    "print('conv1.bias.grad before backward')\n",
    "print(net.conv1.bias.grad)\n",
    "\n",
    "loss.backward()\n",
    "\n",
    "print('conv1.bias.grad after backward')\n",
    "print(net.conv1.bias.grad)"
   ]
  },
  {
   "cell_type": "markdown",
   "metadata": {},
   "source": [
    "# 가중치 갱신"
   ]
  },
  {
   "cell_type": "markdown",
   "metadata": {},
   "source": [
    "## 가중치(weight)=가중치(weight)-학습율(learning rate) * 변화도(gradient)"
   ]
  },
  {
   "cell_type": "code",
   "execution_count": 33,
   "metadata": {},
   "outputs": [
    {
     "name": "stdout",
     "output_type": "stream",
     "text": [
      "Parameter containing:\n",
      "tensor([-0.0165,  0.0936, -0.0353, -0.0460,  0.1103,  0.0867,  0.0813, -0.1027,\n",
      "         0.0761,  0.0513], requires_grad=True)\n"
     ]
    }
   ],
   "source": [
    "learning_rate=0.01\n",
    "for f in net.parameters():\n",
    "    f.data.sub_(f.grad.data*learning_rate)\n",
    "print(f)"
   ]
  },
  {
   "cell_type": "markdown",
   "metadata": {},
   "source": [
    "## torch.optim"
   ]
  },
  {
   "cell_type": "markdown",
   "metadata": {},
   "source": [
    "### 신경망을 구성할 때 SGD,Nesterov-SGD,Adam,RMSProp 등과 같은 다양한 갱신 규칙을 사용하고 싶을 수 있습니다. 이를 위하여 torch.optim 라는 작은 패키지에 이러한 방법을 모두 구현해두었습니다."
   ]
  },
  {
   "cell_type": "code",
   "execution_count": 35,
   "metadata": {},
   "outputs": [],
   "source": [
    "import torch.optim as optim\n",
    "\n",
    "#optimizer를 생성합니다.\n",
    "optimizer=optim.SGD(net.parameters(),lr=0.01)\n",
    "\n",
    "#학습과정(training loop)에서 다음과 같습니다.\n",
    "optimizer.zero_grad() #zero the gradient buffers\n",
    "output=net(input)\n",
    "loss=criterion(output,target)\n",
    "loss.backward()\n",
    "optimizer.step() #does the update"
   ]
  },
  {
   "cell_type": "markdown",
   "metadata": {},
   "source": [
    "# optimzer.zero_grad()를 사용하여 수동으로 변화도 버퍼 0을 설정해야함. 아니면 변화도가 누적됨."
   ]
  }
 ],
 "metadata": {
  "kernelspec": {
   "display_name": "Python 3",
   "language": "python",
   "name": "python3"
  },
  "language_info": {
   "codemirror_mode": {
    "name": "ipython",
    "version": 3
   },
   "file_extension": ".py",
   "mimetype": "text/x-python",
   "name": "python",
   "nbconvert_exporter": "python",
   "pygments_lexer": "ipython3",
   "version": "3.7.4"
  }
 },
 "nbformat": 4,
 "nbformat_minor": 2
}
