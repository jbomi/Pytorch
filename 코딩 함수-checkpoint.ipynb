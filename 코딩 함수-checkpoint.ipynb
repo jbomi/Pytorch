{
 "cells": [
  {
   "cell_type": "markdown",
   "metadata": {},
   "source": [
    "# def 문법"
   ]
  },
  {
   "cell_type": "code",
   "execution_count": 1,
   "metadata": {},
   "outputs": [
    {
     "name": "stdout",
     "output_type": "stream",
     "text": [
      "25\n"
     ]
    }
   ],
   "source": [
    "### 함수의 정의 ###\n",
    "def plus(a,b):\n",
    "    c=a+b\n",
    "    return c\n",
    "d=plus(10,15)\n",
    "print(d)"
   ]
  },
  {
   "cell_type": "markdown",
   "metadata": {},
   "source": [
    "# 합집합을 코딩 함수로 만들기"
   ]
  },
  {
   "cell_type": "code",
   "execution_count": 2,
   "metadata": {},
   "outputs": [
    {
     "name": "stdout",
     "output_type": "stream",
     "text": [
      "[0, 1, 2, 3, 4, 5, 6]\n",
      "[0, 2, 3, 4, 99]\n"
     ]
    }
   ],
   "source": [
    "def union(a,b):\n",
    "    c=[]\n",
    "    for i in a:\n",
    "        if i not in b:\n",
    "            c.append(i)\n",
    "    c=c+b\n",
    "    c.sort()\n",
    "    return c\n",
    "\n",
    "a=[1,3,4,5,6]\n",
    "b=[2,4,6,3,0]\n",
    "c=union(a,b)\n",
    "print(c)\n",
    "\n",
    "a=[0,2,4]\n",
    "b=[3,0,99]\n",
    "c=union(a,b)\n",
    "print(c)"
   ]
  },
  {
   "cell_type": "markdown",
   "metadata": {},
   "source": [
    "# 교집합을 코딩 함수로 만들기"
   ]
  },
  {
   "cell_type": "code",
   "execution_count": 7,
   "metadata": {},
   "outputs": [
    {
     "name": "stdout",
     "output_type": "stream",
     "text": [
      "[2, 4, 6]\n",
      "[]\n"
     ]
    }
   ],
   "source": [
    "def intersection(a,b):\n",
    "    c=[]\n",
    "    for i in a:\n",
    "        if i in b:\n",
    "            c.append(i)\n",
    "    c.sort()\n",
    "    return c\n",
    "\n",
    "a=[1,2,3,4,5,6]\n",
    "b=[2,4,6,8,10]\n",
    "c=intersection(a,b)\n",
    "print(c)\n",
    "\n",
    "a=[1,3,5,7,9]\n",
    "b=[2,4,6,8,0]\n",
    "c=intersection(a,b)\n",
    "print(c)"
   ]
  },
  {
   "cell_type": "markdown",
   "metadata": {},
   "source": [
    "# 차집합, 여집합을 코딩 함수로 만들기"
   ]
  },
  {
   "cell_type": "code",
   "execution_count": 11,
   "metadata": {},
   "outputs": [
    {
     "name": "stdout",
     "output_type": "stream",
     "text": [
      "a-b=[1, 5]\n",
      "b-a=[0, 2]\n",
      "a&b= [3, 4, 6]\n"
     ]
    }
   ],
   "source": [
    "def complement(a,b):\n",
    "    c=a+[]\n",
    "    for i in b:\n",
    "        if i in a:\n",
    "            c.remove(i)\n",
    "    c.sort()\n",
    "    return c\n",
    "\n",
    "a=[1,3,4,5,6]\n",
    "b=[2,4,6,3,0]\n",
    "c=complement(a,b)\n",
    "d=complement(b,a)\n",
    "e=intersection(a,b)\n",
    "print('a-b={}'.format(c))\n",
    "print('b-a={}'.format(d))\n",
    "print('a&b= {}'.format(e))"
   ]
  },
  {
   "cell_type": "markdown",
   "metadata": {},
   "source": [
    "# 차집합과 교집합으로부터 합집합 구하기"
   ]
  },
  {
   "cell_type": "code",
   "execution_count": 13,
   "metadata": {},
   "outputs": [
    {
     "name": "stdout",
     "output_type": "stream",
     "text": [
      "[0, 1, 2, 3, 4, 5, 6]\n"
     ]
    }
   ],
   "source": [
    "a=[1,3,4,5,6]\n",
    "b=[2,4,6,3,0]\n",
    "c=complement(a,b)+complement(b,a)+intersection(a,b)\n",
    "c.sort()\n",
    "print(c)"
   ]
  },
  {
   "cell_type": "markdown",
   "metadata": {},
   "source": [
    "# 함수에서 * 사용하기"
   ]
  },
  {
   "cell_type": "code",
   "execution_count": 17,
   "metadata": {},
   "outputs": [
    {
     "name": "stdout",
     "output_type": "stream",
     "text": [
      "1\n",
      "2\n",
      "3\n",
      "4\n",
      "5\n",
      "-----------\n",
      "0\n",
      "1\n",
      "2\n",
      "3\n",
      "9\n",
      "-----------\n"
     ]
    }
   ],
   "source": [
    "def multi_input(*args):\n",
    "    print(args[0])\n",
    "    print(args[1])\n",
    "    print(args[2])\n",
    "    print(args[3])\n",
    "    print(args[-1])\n",
    "    print('-----------')\n",
    "    \n",
    "multi_input(1,2,3,4,5)   \n",
    "multi_input(0,1,2,3,4,5,6,7,8,9)"
   ]
  },
  {
   "cell_type": "code",
   "execution_count": 18,
   "metadata": {},
   "outputs": [
    {
     "name": "stdout",
     "output_type": "stream",
     "text": [
      "18\n",
      "21\n"
     ]
    }
   ],
   "source": [
    "def sum_all(*args):\n",
    "    total_sum=0\n",
    "    for i in args:\n",
    "        total_sum=total_sum+i\n",
    "    return total_sum\n",
    "\n",
    "a=sum_all(3,6,9)\n",
    "print(a)\n",
    "\n",
    "b=sum_all(1,2,3,4,5,6)\n",
    "print(b)"
   ]
  }
 ],
 "metadata": {
  "kernelspec": {
   "display_name": "Python 3",
   "language": "python",
   "name": "python3"
  },
  "language_info": {
   "codemirror_mode": {
    "name": "ipython",
    "version": 3
   },
   "file_extension": ".py",
   "mimetype": "text/x-python",
   "name": "python",
   "nbconvert_exporter": "python",
   "pygments_lexer": "ipython3",
   "version": "3.7.4"
  }
 },
 "nbformat": 4,
 "nbformat_minor": 2
}
