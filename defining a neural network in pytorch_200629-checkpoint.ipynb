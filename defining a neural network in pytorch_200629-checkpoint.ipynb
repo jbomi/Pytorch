{
 "cells": [
  {
   "cell_type": "code",
   "execution_count": 2,
   "metadata": {},
   "outputs": [],
   "source": [
    "import torch\n",
    "import torch.nn as nn\n",
    "import torch.nn.functional as F"
   ]
  },
  {
   "cell_type": "markdown",
   "metadata": {},
   "source": [
    "## standard MNIST algorithm"
   ]
  },
  {
   "cell_type": "code",
   "execution_count": 3,
   "metadata": {},
   "outputs": [
    {
     "name": "stdout",
     "output_type": "stream",
     "text": [
      "Net(\n",
      "  (conv1): Conv2d(1, 32, kernel_size=(3, 3), stride=(1, 1))\n",
      "  (conv2): Conv2d(32, 64, kernel_size=(3, 3), stride=(1, 1))\n",
      "  (dropout1): Dropout2d(p=0.25, inplace=False)\n",
      "  (dropout2): Dropout2d(p=0.5, inplace=False)\n",
      "  (fc1): Linear(in_features=9216, out_features=128, bias=True)\n",
      "  (fc2): Linear(in_features=128, out_features=10, bias=True)\n",
      ")\n"
     ]
    }
   ],
   "source": [
    "class Net(nn.Module):\n",
    "    def __init__(self): \n",
    "        #nn.Module참조 함수\n",
    "        \n",
    "        super(Net,self).__init__()\n",
    "        \n",
    "        #first 2d convolutional layer, taking in 1 input channel (image),\n",
    "        #outputtin 32 convolutional features, with a square kernel size of 3\n",
    "        self.conv1=nn.Conv2d(1,32,3,1)\n",
    "        #Second 2d convolutional layer, taking in the 32 input layers,\n",
    "        #outputting 64 convolutional features, with a square kernel size of 3\n",
    "        self.conv2=nn.Conv2d(32,64,3,1)\n",
    "        \n",
    "        #designed to ensure that adjacent pixels are either all 0s or all active\n",
    "        #with an input probability\n",
    "        self.dropout1=nn.Dropout2d(0.25)\n",
    "        self.dropout2=nn.Dropout2d(0.5)\n",
    "        \n",
    "        #first fully connected layer\n",
    "        self.fc1=nn.Linear(9216,128)\n",
    "        #second fully connected layer that outputs oir 10 labels\n",
    "        self.fc2=nn.Linear(128,10)\n",
    "        \n",
    "my_nn=Net()\n",
    "print(my_nn)"
   ]
  },
  {
   "cell_type": "markdown",
   "metadata": {},
   "source": [
    "## _________________________________________200630"
   ]
  },
  {
   "cell_type": "markdown",
   "metadata": {},
   "source": [
    "## feed-forward algorithm"
   ]
  },
  {
   "cell_type": "code",
   "execution_count": 4,
   "metadata": {},
   "outputs": [],
   "source": [
    "class Net(nn.Module):\n",
    "    def __init__(self):\n",
    "        super(Net,self).__init__()\n",
    "        self.conv1=nn.Conv2d(1,32,3,1)\n",
    "        self.conv2=nn.Conv2d(32,64,3,1)\n",
    "        self.dropout1=nn.Dropout2d(0.25)\n",
    "        self.dropout2=nn.Dropout2d(0.5)\n",
    "        self.fc1=nn.Linear(9216,128)\n",
    "        self.fc2=nn.Linear(128,10)\n",
    "        \n",
    "    # x represents our data\n",
    "    def forward(self,x):\n",
    "        #pass data through conv1\n",
    "        x=self.conv1(x)\n",
    "        #use the rectified-linear activation function over x\n",
    "        x=F.relu(x)\n",
    "        \n",
    "        x=self.conv2(x)\n",
    "        x=F.relu(x)\n",
    "        \n",
    "        #run max pooling over x\n",
    "        x=F.max_pool2d(x,2)\n",
    "        #pass data through dropout1\n",
    "        x=self.dropout1(x)\n",
    "        #flatten x with start_dim=1\n",
    "        x=torch.flatten(x,1)\n",
    "        #pass data through fc1\n",
    "        x=self.fc1(x)\n",
    "        x=F.relu(x)\n",
    "        x=self.dropout2(x)\n",
    "        x=self.fc2(x)\n",
    "        \n",
    "        #apply softmax to x\n",
    "        output=F.log_softmax(x,dim=1)\n",
    "        return output\n",
    "        "
   ]
  },
  {
   "cell_type": "markdown",
   "metadata": {},
   "source": [
    "# __________________________20.07.02"
   ]
  },
  {
   "cell_type": "markdown",
   "metadata": {},
   "source": [
    "## pass data through your model to test"
   ]
  },
  {
   "cell_type": "code",
   "execution_count": 5,
   "metadata": {},
   "outputs": [
    {
     "name": "stdout",
     "output_type": "stream",
     "text": [
      "tensor([[-2.2217, -2.2873, -2.3198, -2.3172, -2.2850, -2.3966, -2.3026, -2.3655,\n",
      "         -2.3478, -2.1990]], grad_fn=<LogSoftmaxBackward>)\n"
     ]
    }
   ],
   "source": [
    "#equate to one random 28*28 image\n",
    "random_data=torch.rand((1,1,28,28))\n",
    "\n",
    "my_nn=Net()\n",
    "result=my_nn(random_data)\n",
    "print(result)"
   ]
  },
  {
   "cell_type": "code",
   "execution_count": null,
   "metadata": {},
   "outputs": [],
   "source": []
  }
 ],
 "metadata": {
  "kernelspec": {
   "display_name": "Python 3",
   "language": "python",
   "name": "python3"
  },
  "language_info": {
   "codemirror_mode": {
    "name": "ipython",
    "version": 3
   },
   "file_extension": ".py",
   "mimetype": "text/x-python",
   "name": "python",
   "nbconvert_exporter": "python",
   "pygments_lexer": "ipython3",
   "version": "3.7.6"
  }
 },
 "nbformat": 4,
 "nbformat_minor": 4
}
