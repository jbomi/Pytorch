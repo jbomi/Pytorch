{
 "cells": [
  {
   "cell_type": "markdown",
   "metadata": {},
   "source": [
    "1. 학습 가능한 매개변수(또는 가중치(weight))를 갖는 신경망을 정의합니다\n",
    "2. 데이터셋(dataset) 입력을 반복합니다\n",
    "3. 입력을 신경망에서 전파(process)합니다\n",
    "4. 손실(loss; 출력이 정답으로부터 얼마나 떨어져있는지)을 계산합니다\n",
    "5. 변화도(gradient)를 신경망의 매개변수들에 역으로 전파합니다\n",
    "6. 신경망의 가중치를 갱신합니다. 일반적으로 다음과 같은 간단한 규칙을 사용합니다.:\n",
    "가중치(weight)=가중치(weight)-학습률(learning rate) *변화도(gradient)"
   ]
  },
  {
   "cell_type": "code",
   "execution_count": 1,
   "metadata": {},
   "outputs": [
    {
     "name": "stdout",
     "output_type": "stream",
     "text": [
      "Net(\n",
      "  (conv1): Conv2d(1, 6, kernel_size=(3, 3), stride=(1, 1))\n",
      "  (conv2): Conv2d(6, 16, kernel_size=(3, 3), stride=(1, 1))\n",
      "  (fc1): Linear(in_features=576, out_features=120, bias=True)\n",
      "  (fc2): Linear(in_features=120, out_features=84, bias=True)\n",
      "  (fc3): Linear(in_features=84, out_features=10, bias=True)\n",
      ")\n"
     ]
    }
   ],
   "source": [
    "import torch\n",
    "import torch.nn as nn\n",
    "import torch.nn.functional as F\n",
    "\n",
    "class Net(nn.Module):\n",
    "    def __init__(self):\n",
    "        super(Net, self).__init__()\n",
    "        self.conv1=nn.Conv2d(1,6,3) #input channel 1, output channel 6, kernel 3*3\n",
    "        self.conv2=nn.Conv2d(6,16,3)\n",
    "        # an affine operation : y=wx+b\n",
    "        self.fc1=nn.Linear(16*6*6,120) #6*6 from image dimension\n",
    "        self.fc2=nn.Linear(120,84)\n",
    "        self.fc3=nn.Linear(84,10)\n",
    "        \n",
    "    def forward(self,x):\n",
    "        x=F.max_pool2d(F.relu(self.conv1(x)),(2,2))\n",
    "        #(2,2) 윈도우로 Maxpooling\n",
    "        x=F.max_pool2d(F.relu(self.conv2(x)),2)\n",
    "        #사이즈가 정사각형이면 하나의 숫자로 지정\n",
    "        x=x.view(-1,self.num_flat_features(x))\n",
    "        x=F.relu(self.fc1(x))\n",
    "        x=F.relu(self.fc2(x))\n",
    "        x=self.fc3(x)\n",
    "        \n",
    "        return x\n",
    "    #forward함수만 정의하고 나면 변화도를 계산하는 backward함수는\n",
    "    #autograd를 사용하여 자동으로 정의됩니다.\n",
    "    #forward함수에서는 어떠한 tensor 연산을 사용해도 됩니다\n",
    "    def num_flat_features(self,x):\n",
    "        size=x.size()[1:]\n",
    "        num_features=1\n",
    "        for s in size:\n",
    "            num_features *=s\n",
    "        return num_features\n",
    "    \n",
    "net=Net()\n",
    "print(net)\n",
    "    "
   ]
  },
  {
   "cell_type": "markdown",
   "metadata": {},
   "source": [
    "-----------------------------------------------------------------------\n",
    "2020.06.12"
   ]
  },
  {
   "cell_type": "markdown",
   "metadata": {},
   "source": [
    "#### 모델의 학습 가능한 매개변수들은 net.parameters()에 의해 반환됩니다."
   ]
  },
  {
   "cell_type": "code",
   "execution_count": 2,
   "metadata": {},
   "outputs": [
    {
     "name": "stdout",
     "output_type": "stream",
     "text": [
      "10\n",
      "torch.Size([6, 1, 3, 3])\n"
     ]
    }
   ],
   "source": [
    "params=list(net.parameters())\n",
    "print(len(params))\n",
    "print(params[0].size()) #conv1's weight"
   ]
  },
  {
   "cell_type": "markdown",
   "metadata": {},
   "source": [
    "이 신경망의 예상되는 입력 크기는 32*32입니다. 이 신경망에 MNIST데이터셋을 사용하기 위해서는, 데이터셋의 이미지 크기를 32*32로 변경해야합니다"
   ]
  },
  {
   "cell_type": "code",
   "execution_count": 3,
   "metadata": {},
   "outputs": [
    {
     "name": "stdout",
     "output_type": "stream",
     "text": [
      "tensor([[ 0.0633, -0.0402, -0.0824,  0.0380,  0.0205,  0.1995,  0.0507,  0.0271,\n",
      "          0.0754,  0.0083]], grad_fn=<AddmmBackward>)\n"
     ]
    }
   ],
   "source": [
    "input=torch.randn(1,1,32,32)\n",
    "out=net(input)\n",
    "print(out)"
   ]
  },
  {
   "cell_type": "markdown",
   "metadata": {},
   "source": [
    "모든 매개변수의 변화도 버퍼(gradient buffer)를 0으로 설정하고, 무작위 값으로 역전파를 합니다"
   ]
  },
  {
   "cell_type": "code",
   "execution_count": 4,
   "metadata": {},
   "outputs": [],
   "source": [
    "net.zero_grad()\n",
    "out.backward(torch.randn(1,10))"
   ]
  },
  {
   "cell_type": "markdown",
   "metadata": {},
   "source": [
    "torch.nn은 미니 배치만 지원합니다. torch.nn패키지 전체는 하나의 샘플이 아닌, 샘플들의 미니배치만을 입력으로 받습니다.\n",
    "예를 들어, nnConv2d는 nSamples*nChannels*height*width의 4차원 tensor를 입력으로 합니다. 만약 하나의 샘플만 있다면, input.unsqueeze(0)을 사용해서 가짜 차원을 추가합니다"
   ]
  },
  {
   "cell_type": "markdown",
   "metadata": {},
   "source": [
    "# 손실함수(loss function)\n",
    "손실 함수는 (output,target)을 한 쌍(pair)의 입력으로 받아, 출력(output)이 정답(target)으로부터 얼마나 멀리 떨어져있는지 추정하는 값을 계산합니다.\n",
    "nn 패키지에는 여러가지 손실함수들이 존재합니다. 간단한 손실 함수로는 출력과 대상간의 평균제곱오차(mean squared error)를 계산하는 nn.MSEloss가 있습니다. \n",
    "## mean square value\n",
    "integral(x^2*f_X(x))dx"
   ]
  },
  {
   "cell_type": "code",
   "execution_count": 5,
   "metadata": {},
   "outputs": [
    {
     "name": "stdout",
     "output_type": "stream",
     "text": [
      "tensor(1.2071, grad_fn=<MseLossBackward>)\n"
     ]
    }
   ],
   "source": [
    "output=net(input)\n",
    "target=torch.randn(10) #a dummy target, for example\n",
    "target=target.view(1,-1) #make it the same shape as output\n",
    "criterion=nn.MSELoss()\n",
    "\n",
    "loss=criterion(output,target)\n",
    "print(loss)"
   ]
  },
  {
   "cell_type": "markdown",
   "metadata": {},
   "source": [
    "loss.backward()를 실행할 때, 전체 그래프는 손실(loss)에 대하여 미분되며, \n",
    "그래프 내의 requires_grad=True인 모든 Tensor는 변화도가 누적된 .grad Tensor를 갖게된다"
   ]
  },
  {
   "cell_type": "code",
   "execution_count": 7,
   "metadata": {},
   "outputs": [
    {
     "name": "stdout",
     "output_type": "stream",
     "text": [
      "<MseLossBackward object at 0x0000019F144E1648>\n",
      "<AddmmBackward object at 0x0000019F144E1648>\n",
      "<AccumulateGrad object at 0x0000019F0F0D5288>\n"
     ]
    }
   ],
   "source": [
    "print(loss.grad_fn) #MSELoss\n",
    "print(loss.grad_fn.next_functions[0][0]) #Linear\n",
    "print(loss.grad_fn.next_functions[0][0].next_functions[0][0]) #ReLU"
   ]
  },
  {
   "cell_type": "markdown",
   "metadata": {},
   "source": [
    "# 역전파(backprop)\n",
    "오차를 역전파하기 위해서는 loss.backward()만 해주면 됩니다. 기존 변화도를 없애는 작업이 필요한데, 그렇지 않으면 변화도가 기존의 것에 누적되기 때문입니다.\n",
    "loss.backward()를 호출하여 역전파 전과 후에 conv1의 bias gradient를 살펴보자"
   ]
  },
  {
   "cell_type": "code",
   "execution_count": 8,
   "metadata": {},
   "outputs": [
    {
     "name": "stdout",
     "output_type": "stream",
     "text": [
      "conv1.bias.grad.before backward\n",
      "tensor([0., 0., 0., 0., 0., 0.])\n",
      "conv1.bias.grad after backward\n",
      "tensor([ 0.0177, -0.0199,  0.0193,  0.0163,  0.0294, -0.0035])\n"
     ]
    }
   ],
   "source": [
    "net.zero_grad() #zeros the gradient buffers of all parameters\n",
    "\n",
    "print('conv1.bias.grad.before backward')\n",
    "print(net.conv1.bias.grad)\n",
    "\n",
    "loss.backward()\n",
    "\n",
    "print('conv1.bias.grad after backward')\n",
    "print(net.conv1.bias.grad)"
   ]
  },
  {
   "cell_type": "markdown",
   "metadata": {},
   "source": [
    "# 가중치 갱신\n",
    "실제로 많이 사용되는 가장 단순한 갱신 규칙은 확률적 경사하강법(SGD;stochastic Gradient Descent)입니다\n",
    "가중치=가중치(weight)-학습율(learning rate)*변화도(gradient)"
   ]
  },
  {
   "cell_type": "code",
   "execution_count": 9,
   "metadata": {},
   "outputs": [],
   "source": [
    "learning_rate=0.01\n",
    "for f in net.parameters():\n",
    "    f.data.sub_(f.grad.data *learning_rate)"
   ]
  },
  {
   "cell_type": "markdown",
   "metadata": {},
   "source": [
    "신경망을 구성할 때 SGD, Nestrov-SGD,Adam,RMSProp등과 같은 다양한 갱신 규칙을 사용하고 싶을 수 있습니다. 이를 위해서 torch.optim라는 작은 패키지에 이러한 방법들을 모두 구현해두었습니다. 사용법은 매우 간단합니다"
   ]
  },
  {
   "cell_type": "code",
   "execution_count": 12,
   "metadata": {},
   "outputs": [],
   "source": [
    "import torch.optim as optim\n",
    "\n",
    "#optimizer를 생성합니다. \n",
    "optimizer=optim.SGD(net.parameters(),lr=0.01)\n",
    "\n",
    "#학습과정(training loop)에서는 다음과 같습니다:\n",
    "optimizer.zero_grad() #버퍼 0으로 설정 잊지않기\n",
    "output=net(input)\n",
    "loss=criterion(output,target)\n",
    "loss.backward()\n",
    "optimizer.step() #dose the update"
   ]
  }
 ],
 "metadata": {
  "kernelspec": {
   "display_name": "Python 3",
   "language": "python",
   "name": "python3"
  },
  "language_info": {
   "codemirror_mode": {
    "name": "ipython",
    "version": 3
   },
   "file_extension": ".py",
   "mimetype": "text/x-python",
   "name": "python",
   "nbconvert_exporter": "python",
   "pygments_lexer": "ipython3",
   "version": "3.7.6"
  }
 },
 "nbformat": 4,
 "nbformat_minor": 4
}
