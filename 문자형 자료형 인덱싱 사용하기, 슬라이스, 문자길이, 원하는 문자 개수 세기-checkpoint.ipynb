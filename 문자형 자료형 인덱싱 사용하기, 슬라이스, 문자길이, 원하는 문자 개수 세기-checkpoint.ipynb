{
 "cells": [
  {
   "cell_type": "markdown",
   "metadata": {},
   "source": [
    "b[:] 0번째부터 마지막까지 모두 지칭\n",
    "\n",
    "b[start:end] start인덱스부터 end인덱스의 바로 전까지 지칭\n",
    "\n",
    "b[:end] 0번째 인덱스부터 end인덱스의 바로 전까지 지칭\n",
    "\n",
    "b[start:] start인덱스부터 마지막 인덱스까지 지칭\n",
    "\n",
    "b[start:end:step] start인덱스부터 end 인덱스의 바로 전까지 step배수 지칭"
   ]
  },
  {
   "cell_type": "code",
   "execution_count": 1,
   "metadata": {},
   "outputs": [
    {
     "name": "stdout",
     "output_type": "stream",
     "text": [
      "c\n",
      "o\n",
      "g\n",
      "g\n"
     ]
    }
   ],
   "source": [
    "b='coding'\n",
    "print(b[0])\n",
    "print(b[1])\n",
    "print(b[5])\n",
    "print(b[-1])"
   ]
  },
  {
   "cell_type": "code",
   "execution_count": 6,
   "metadata": {},
   "outputs": [
    {
     "name": "stdout",
     "output_type": "stream",
     "text": [
      "odi\n",
      "coding\n",
      "cod\n",
      "ding\n",
      "oig\n",
      "cdn\n",
      "cn\n"
     ]
    }
   ],
   "source": [
    "print(b[1:4]) #b[1:4]는 1번째부터 3번째 까지를 지칭, 인덱스는 0번째부터 시작함\n",
    "\n",
    "print(b[:])# 모두 출력\n",
    "print(b[:3])#처음부터 인덱스 3전(인덱스 2)까지 출력\n",
    "print(b[2:])#인덱스 2부터 마지막까지 출력\n",
    "print(b[1:6:2])#인덱스 1부터 인덱스 6전까지 하나씩 건너뛰며 출력\n",
    "print(b[::2])# 처음부터 마지막까지 하나씩 건너뛰며 출력\n",
    "print(b[::4])"
   ]
  },
  {
   "cell_type": "code",
   "execution_count": 10,
   "metadata": {},
   "outputs": [
    {
     "name": "stdout",
     "output_type": "stream",
     "text": [
      "cw\n",
      "cdnwrd\n",
      "ciwl\n"
     ]
    }
   ],
   "source": [
    "a='codingworld'\n",
    "print(a[::6])\n",
    "print(a[::2])\n",
    "print(a[::3])"
   ]
  },
  {
   "cell_type": "code",
   "execution_count": 16,
   "metadata": {},
   "outputs": [
    {
     "name": "stdout",
     "output_type": "stream",
     "text": [
      "5\n",
      "------\n",
      "7\n",
      "------\n",
      "5\n"
     ]
    }
   ],
   "source": [
    "a=357\n",
    "b=str(a)\n",
    "print(b[1])\n",
    "print('------')\n",
    "c=int(b[2])\n",
    "print(c)\n",
    "print('------')\n",
    "print(int(str(a)[1]))"
   ]
  },
  {
   "cell_type": "code",
   "execution_count": 17,
   "metadata": {},
   "outputs": [
    {
     "name": "stdout",
     "output_type": "stream",
     "text": [
      "4\n",
      "3\n"
     ]
    }
   ],
   "source": [
    "a=123456789\n",
    "b=str(a)\n",
    "print(b[3])\n",
    "print(int(str(a)[2]))"
   ]
  },
  {
   "cell_type": "code",
   "execution_count": 19,
   "metadata": {},
   "outputs": [
    {
     "name": "stdout",
     "output_type": "stream",
     "text": [
      "11\n",
      "2\n"
     ]
    }
   ],
   "source": [
    "b='codingworld'\n",
    "print(len(b))\n",
    "print(b.count('d'))"
   ]
  },
  {
   "cell_type": "code",
   "execution_count": 21,
   "metadata": {},
   "outputs": [
    {
     "name": "stdout",
     "output_type": "stream",
     "text": [
      "2\n"
     ]
    }
   ],
   "source": [
    "name='jeongbomi'\n",
    "print(name.count('o'))"
   ]
  }
 ],
 "metadata": {
  "kernelspec": {
   "display_name": "Python 3",
   "language": "python",
   "name": "python3"
  },
  "language_info": {
   "codemirror_mode": {
    "name": "ipython",
    "version": 3
   },
   "file_extension": ".py",
   "mimetype": "text/x-python",
   "name": "python",
   "nbconvert_exporter": "python",
   "pygments_lexer": "ipython3",
   "version": "3.7.4"
  }
 },
 "nbformat": 4,
 "nbformat_minor": 2
}
