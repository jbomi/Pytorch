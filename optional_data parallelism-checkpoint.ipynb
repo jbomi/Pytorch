{
 "cells": [
  {
   "cell_type": "code",
   "execution_count": 1,
   "metadata": {},
   "outputs": [],
   "source": [
    "%matplotlib inline"
   ]
  },
  {
   "cell_type": "markdown",
   "metadata": {},
   "source": [
    "device=torch.device(\"cuda:0\")\n",
    "model.to(device) #모델을 GPU에 넣을 수 있음\n",
    "mytensor=my_tensor.to(device) # 그런 다음 모든 텐서를 GPU에 복사 할 수 있음\n",
    "#모델을 병렬로 실행하여 여러 GPU에서 작업을 쉽게 실행 가능(DataParallel)"
   ]
  },
  {
   "cell_type": "code",
   "execution_count": 2,
   "metadata": {},
   "outputs": [],
   "source": [
    "import torch\n",
    "import torch.nn as nn\n",
    "from torch.utils.data import Dataset, DataLoader\n",
    "\n",
    "#Parameters and DataLoaders\n",
    "input_size=5\n",
    "output_size=2\n",
    "\n",
    "batch_size=30\n",
    "data_size=100"
   ]
  },
  {
   "cell_type": "markdown",
   "metadata": {},
   "source": [
    "## 장치"
   ]
  },
  {
   "cell_type": "code",
   "execution_count": 3,
   "metadata": {},
   "outputs": [],
   "source": [
    "device=torch.device(\"cuda:0\"if torch.cuda.is_available() else\"cpu\")"
   ]
  },
  {
   "cell_type": "markdown",
   "metadata": {},
   "source": [
    "## Dummy DataSet"
   ]
  },
  {
   "cell_type": "markdown",
   "metadata": {},
   "source": [
    "### 더미(임의)데이터 세트를 만듦. getitem을 구현하면 됨."
   ]
  },
  {
   "cell_type": "code",
   "execution_count": 4,
   "metadata": {},
   "outputs": [],
   "source": [
    "class RandomDataset(Dataset):\n",
    "    def __init__(self,size,length): # download,read data 파트\n",
    "        self.len=length\n",
    "        self.data=torch.randn(length,size)\n",
    "    \n",
    "    def __getitem__(self,index): #인덱스에 해당하는 아이템을 넘겨주는 파트\n",
    "        return self.data[index]\n",
    "    \n",
    "    def __len__(self): #data size를 넘겨주는 파트\n",
    "        return self.len\n",
    "    \n",
    "rand_loader=DataLoader(dataset=RandomDataset(input_size,data_size),\n",
    "                      batch_size=batch_size,shuffle=True)\n",
    "        "
   ]
  },
  {
   "cell_type": "markdown",
   "metadata": {},
   "source": [
    "## 간단한 모델 만들기"
   ]
  },
  {
   "cell_type": "code",
   "execution_count": 5,
   "metadata": {},
   "outputs": [],
   "source": [
    "class Model(nn.Module):\n",
    "    \n",
    "    def __init__(self,input_size,output_size):\n",
    "        super(Model,self).__init__()\n",
    "        self.fc=nn.Linear(input_size,output_size)\n",
    "        \n",
    "    def forward(self,input):\n",
    "        output=self.fc(input)\n",
    "        print(\"\\tIn Model: input size\",input.size(),\n",
    "             \"output size\",output.size())\n",
    "        \n",
    "        return output"
   ]
  },
  {
   "cell_type": "markdown",
   "metadata": {},
   "source": [
    "## 모델 및 데이터 병렬 생성"
   ]
  },
  {
   "cell_type": "markdown",
   "metadata": {},
   "source": [
    "모델 인스턴스를 만들고 GPU가 여러 개인지 확인해야함. GPU가 여러 개인 경우를 사용하여 모델을 래핑 할 수 있음. nn.DataParallel. 그런 다음 모델을 GPU에 배치할 수 있음. \n",
    "model.to(device)"
   ]
  },
  {
   "cell_type": "code",
   "execution_count": 8,
   "metadata": {},
   "outputs": [
    {
     "data": {
      "text/plain": [
       "Model(\n",
       "  (fc): Linear(in_features=5, out_features=2, bias=True)\n",
       ")"
      ]
     },
     "execution_count": 8,
     "metadata": {},
     "output_type": "execute_result"
    }
   ],
   "source": [
    "model=Model(input_size,output_size)\n",
    "if torch.cuda.device_count()>1:\n",
    "    print(\"Let's use\",torch.cuda.device_count(),\"GPUs!\")\n",
    "    #dimension=0[30,xxx]->[10,...],[10,...],[10,...]on 3 GPUs\n",
    "    model=nn.DataParallel(model)\n",
    "    \n",
    "model.to(device)"
   ]
  },
  {
   "cell_type": "markdown",
   "metadata": {},
   "source": [
    "## 모델 실행"
   ]
  },
  {
   "cell_type": "markdown",
   "metadata": {},
   "source": [
    "### 입력 및 출력 텐서의 크기를 볼 수 있음"
   ]
  },
  {
   "cell_type": "code",
   "execution_count": 7,
   "metadata": {},
   "outputs": [
    {
     "name": "stdout",
     "output_type": "stream",
     "text": [
      "\tIn Model: input size torch.Size([30, 5]) output size torch.Size([30, 2])\n",
      "Outside: input size torch.Size([30, 5]) output_size torch.Size([30, 2])\n",
      "\tIn Model: input size torch.Size([30, 5]) output size torch.Size([30, 2])\n",
      "Outside: input size torch.Size([30, 5]) output_size torch.Size([30, 2])\n",
      "\tIn Model: input size torch.Size([30, 5]) output size torch.Size([30, 2])\n",
      "Outside: input size torch.Size([30, 5]) output_size torch.Size([30, 2])\n",
      "\tIn Model: input size torch.Size([10, 5]) output size torch.Size([10, 2])\n",
      "Outside: input size torch.Size([10, 5]) output_size torch.Size([10, 2])\n"
     ]
    }
   ],
   "source": [
    "for data in rand_loader:\n",
    "    input=data.to(device)\n",
    "    output=model(input)\n",
    "    print(\"Outside: input size\",input.size(),\"output_size\",output.size())"
   ]
  },
  {
   "cell_type": "markdown",
   "metadata": {},
   "source": [
    "### 30개의 출력을 일괄 처리하면 모델은 예상대로 30을 출력하고 30을 출력함. 해당 경우는 GPU가  없거나 하나인 경우임."
   ]
  },
  {
   "cell_type": "code",
   "execution_count": null,
   "metadata": {},
   "outputs": [],
   "source": []
  }
 ],
 "metadata": {
  "kernelspec": {
   "display_name": "Python 3",
   "language": "python",
   "name": "python3"
  },
  "language_info": {
   "codemirror_mode": {
    "name": "ipython",
    "version": 3
   },
   "file_extension": ".py",
   "mimetype": "text/x-python",
   "name": "python",
   "nbconvert_exporter": "python",
   "pygments_lexer": "ipython3",
   "version": "3.7.4"
  }
 },
 "nbformat": 4,
 "nbformat_minor": 2
}
