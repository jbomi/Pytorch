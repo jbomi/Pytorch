{
 "cells": [
  {
   "cell_type": "code",
   "execution_count": 2,
   "metadata": {},
   "outputs": [
    {
     "data": {
      "text/plain": [
       "<function matplotlib.pyplot.ion()>"
      ]
     },
     "execution_count": 2,
     "metadata": {},
     "output_type": "execute_result"
    }
   ],
   "source": [
    "from __future__ import print_function, division\n",
    "\n",
    "import torch\n",
    "import torch.nn as nn\n",
    "import torch.optim as optim\n",
    "from torch.optim import lr_scheduler\n",
    "import numpy as np\n",
    "import torchvision\n",
    "from torchvision import datasets, models, transforms\n",
    "import matplotlib.pyplot as plt\n",
    "import time\n",
    "import os\n",
    "import copy\n",
    "\n",
    "plt.ion #대화형 모드"
   ]
  },
  {
   "cell_type": "markdown",
   "metadata": {},
   "source": [
    "## 데이터 불러오기"
   ]
  },
  {
   "cell_type": "code",
   "execution_count": null,
   "metadata": {},
   "outputs": [],
   "source": [
    "#학습을 위한 데이터 증가(augmentation) 및 일반화(normalization)\n",
    "#검증을 위한 일반화\n",
    "\n",
    "data_transforms={\n",
    "    'train':transforms.Compose([\n",
    "        transforms.RandomResizedCrop(224),\n",
    "        transforms.RandomHorizontalFlip(),\n",
    "        transforms.ToTensor(),\n",
    "        transforms.Normalize([0.485,0.456,0.406],[0.229,0.224,0.225]),\n",
    "    ]),\n",
    "    'val':transforms.Compose([\n",
    "        transforms.Resize(256),\n",
    "        transforms.CenterCrop(224),\n",
    "        transforms.ToTensor(),\n",
    "        transforms.Normalize([0.485,0.456,0.406],[0.229,0.224,0.225])\n",
    "    ])\n",
    "}\n",
    "\n",
    "#data_dir='data/hymenoptera_data'\n",
    "image_datasets={x:datasets.ImageFolder(os.path.join(data_dir,x),data_transforms[x])\n",
    "               for x in ['train','val']}\n",
    "dataloaders={x:torch.utils.data.DataLoader(image_datasets[x],batch_size=4,\n",
    "                                           shuffle=True,\n",
    "                                           num_workers=4)\n",
    "            for x in ['tain','val']}\n",
    "dataset_sizes={x:len(image_datasets[x]) for x in ['train','val']}\n",
    "class_names=image_datasets['train'].classes\n",
    "device=torch.device(\"cuda:0\" if torch.cuda.is_available() else \"cpu\")"
   ]
  },
  {
   "cell_type": "markdown",
   "metadata": {},
   "source": [
    "## 일부 이미지: 이해하기 쉬운 이미지를 익히시오"
   ]
  },
  {
   "cell_type": "code",
   "execution_count": null,
   "metadata": {},
   "outputs": [],
   "source": [
    "def imshow(inp,title=None):\n",
    "    \"\"\"Imshow for Tensor\"\"\"\n",
    "    inp=inp.numpy().transpose((1,2,0))\n",
    "    mean=np.array([0.485,0.456,0.406])\n",
    "    std=np.array([0.229,0.224,0.225])\n",
    "    inp=std*inp+mean\n",
    "    inp=np.clip(inp,0,1)\n",
    "    plt.imshow(inp)\n",
    "    if title is not None:\n",
    "        plt.title(title)\n",
    "    plt.pause(0.001) #갱신이 될때까지 잠시 기다립니다\n",
    "    \n",
    "#학습 데이터의 배치를 얻습니다.\n",
    "inputs, classes =next(iter(dataloaders['train']))\n",
    "\n",
    "#배치로부터 격자 형태의 이미지를 만듭니다\n",
    "out=torchvision.utils.make_grid(inputs)\n",
    "\n",
    "imshow(out,title=[class_names[x] for x in classes])"
   ]
  },
  {
   "cell_type": "markdown",
   "metadata": {},
   "source": [
    "### np.clip(배열, 최소값 기준, 최대값 기준): 이 범위 기준을 벗어나는 값에 대해서는 일괄적으로 최소값, 최대값으로 대치해줌. \n",
    "ex) np.clip(a, 0, 4, out=a) 최소값 부분을 0으로 해주었으므로 0보다 작은 값은 모두 0으로 대치함"
   ]
  },
  {
   "cell_type": "markdown",
   "metadata": {},
   "source": [
    "### np.where(): np.where(조건, True일때 값, False일 때 값), 사용하면 편리하게 0보다 작은 조건의 위치에 0을 할당할 수 있다. 벡터 연산을 하므로 for loop를 돌지 않아서 속도가 매우 빠르다. 원래 배열 a는 변경되지않고 그대로 있다.\n",
    "ex)np.where(a<0,0,a) 0보다 작으면 0"
   ]
  },
  {
   "cell_type": "markdown",
   "metadata": {},
   "source": [
    "## 모델 학습하기\n",
    "1. 학습율 관리(scheduling)\n",
    "2. 우수한 모델 구하기\n",
    "\n",
    "scheduler 매개변수는 torch.optim.lr_scheduler의 LR스케쥴러 객체이다"
   ]
  },
  {
   "cell_type": "code",
   "execution_count": 6,
   "metadata": {},
   "outputs": [],
   "source": [
    "def train_model(model, criterion, optimizer, scheduler, num_epochs=25):\n",
    "    since=time.time()\n",
    "    \n",
    "    best_model_wts=copy.deepcopy(model.state_dict())\n",
    "    best_acc=0.0\n",
    "    \n",
    "    for epoch in range(num_epochs):\n",
    "        print('Epoch {}/{}'.format(epoch,num_epochs-1))\n",
    "        print('-'*10)\n",
    "        \n",
    "        #각 에폭(epoch)dsm 학습 단계와 검증 단계를 갖습니다.\n",
    "        for phase in ['train','val']:\n",
    "            if phase=='train':\n",
    "                model.train() #모델을 학습 모드로 설정\n",
    "            else:\n",
    "                model.eval() #모델을 평가 모드로 설정\n",
    "                \n",
    "            running_loss=0.0\n",
    "            running_corrects=0\n",
    "            \n",
    "            #데이터 반복\n",
    "            for inputs, labels in dataloaders[phase]:\n",
    "                inputs=inputs.to(device)\n",
    "                labels=labels.to(device)\n",
    "                \n",
    "                #매개변수 경사도를 0으로 설정\n",
    "                optimizer.zero_grad()\n",
    "                \n",
    "                #순전파\n",
    "                #학습 시에만 연산 기록 추적\n",
    "                with torch.set_grad_enabled(phase=='train'):\n",
    "                    outputs=model(inputs)\n",
    "                    _, preds=torch.max(outputs,1)\n",
    "                    loss=criterion(outputs,labels)\n",
    "                    \n",
    "                    #학습 단계인 경우 역전파\n",
    "                    if phase=='train':\n",
    "                        loss.backward()\n",
    "                        optimizer.step()\n",
    "                        \n",
    "                #통계\n",
    "                running_loss+=loss.item()*inputs.size(0)\n",
    "                running_corrects+=torch.sum(preds==labels.data)\n",
    "            if phase=='train':\n",
    "                scheduler.step()\n",
    "                \n",
    "            epoch_loss=running_loss/dataset_sizes[phase]\n",
    "            epoch_acc=running_corrects.double/datasets_sizes[phase]\n",
    "            \n",
    "            print('{} Loss: {:.4f} Acc :{:.4f}'.format(phase,epoch_loss,epoch_acc))\n",
    "            \n",
    "            #모델을 깊은 복사(deep copy)함\n",
    "            if phase=='val' and epoch_acc > best_acc:\n",
    "                best_acc=epoch_acc\n",
    "                best_model_wts=copy.deepcopy(model.state_dict())\n",
    "                \n",
    "        print()\n",
    "        \n",
    "    time_elapsed=time.time() -since\n",
    "    print('Training complete in {:.0f}m {:.0f}s'.format(time_elapsed//60,\n",
    "                                                        time_elapsed%60))\n",
    "    print('Best val Acc: {:4f}'.format(best_acc))\n",
    "    \n",
    "    #가장 나은 모델 가중치를 불러옴\n",
    "    model.load_state_dict(best_model_wts)\n",
    "    \n",
    "    return model"
   ]
  },
  {
   "cell_type": "markdown",
   "metadata": {},
   "source": [
    "#### state_dict : pytorch에서 torch.nn.Module 모델의 학습 가능한 매개변수(ex. 가중치와 편향)들은 모델의 매개변수에 포함되어 있습니다. (model.parameters()로 접근함) state_dict은 간단히 말해 각 계층을 매개변수 텐서로 매핑되는 Python사전(dict)객체 입니다. 이 때, 학습 가능한 매개변수를 갖는 계층(합성곱 계층, 선형 계층 등) 및 등록된 버퍼들(batchnorm의 running_mean)만이 모델의 state_dict에 항목을 가짐을 유의하시기 바랍니다. 옵티마이저 객체(torch.optim) 또한 옵티마이저의 상태 뿐만 아니라 사용된 하이퍼 매개변수(Hyperparameter)정보가 포함된 state_dict을 갖습니다. state_dict 객체는 python사전이기 때문에 쉽게 저장하거나 갱신하거나 바꾸거나 되살릴 수 있으며, Pytorch 모델과 옵티마이저에 엄청난 모듈성(modularity)를 제공합니다"
   ]
  },
  {
   "cell_type": "markdown",
   "metadata": {},
   "source": [
    "## 모델 예측값 시각화하기\n",
    "일부 이미지에 대한 예측값을 보여주는 일반화된 함수이다."
   ]
  },
  {
   "cell_type": "code",
   "execution_count": null,
   "metadata": {},
   "outputs": [],
   "source": [
    "def visualize_model(model, num_images=6):\n",
    "    was_training=model.training\n",
    "    model.eval()\n",
    "    images_so_far=0\n",
    "    fig=plt.figure()\n",
    "    \n",
    "    with torch.no_grad():\n",
    "        for i, (inputs,labels) in enumerate(dataloaders['val']):\n",
    "            inputs=inputs.to(device)\n",
    "            labels=labels.to(device)\n",
    "            \n",
    "            outputs=model(inputs)\n",
    "            _, preds=torch.max(outputs,1)\n",
    "            \n",
    "            for j in range(inputs.size()[0]):\n",
    "                images_so_far+=1\n",
    "                ax=plt.subplot(num_images//2,2,images_so_far)\n",
    "                ax.axis('off')\n",
    "                ax.set_title('predicted: {}'.format(class_names[preds[j]]))\n",
    "                imshow(inputs.cpu().data[j])\n",
    "                \n",
    "                if images_so_far==num_images:\n",
    "                    model.train(model=was_training)\n",
    "                    return\n",
    "        model.train(model=was_training)\n"
   ]
  },
  {
   "cell_type": "code",
   "execution_count": 6,
   "metadata": {},
   "outputs": [
    {
     "data": {
      "text/plain": [
       "<matplotlib.axes._subplots.AxesSubplot at 0x15bded719c8>"
      ]
     },
     "execution_count": 6,
     "metadata": {},
     "output_type": "execute_result"
    },
    {
     "data": {
      "image/png": "[encoded data removed]",
      "text/plain": [
       "<Figure size 432x288 with 1 Axes>"
      ]
     },
     "metadata": {
      "needs_background": "light"
     },
     "output_type": "display_data"
    }
   ],
   "source": [
    "plt.subplot(1,1,1)"
   ]
  },
  {
   "cell_type": "markdown",
   "metadata": {},
   "source": [
    "## 합성곱 신경망 미세조정(finetuning):\n",
    "미리 학습한 모델을 불러온 후 마지막의 완전히 연결된 계층을 초기화합니다."
   ]
  },
  {
   "cell_type": "code",
   "execution_count": null,
   "metadata": {},
   "outputs": [],
   "source": [
    "model_ft=models.resnet18(pretrained=True)\n",
    "num_ftrs=model_ft.fc.in_features\n",
    "#여기서 각 출력 샘플의 크기는 2로 설정합니다\n",
    "# 또는, nn.Linear(num_ftrs,len(class_names))로 일반화할 수 있습니다\n",
    "model_ft.fc=nn.Linear(num_ftrs,2)\n",
    "model_ft=modle_ft.to(device)\n",
    "criterion=nn.CrossEntropyLoss()\n",
    "\n",
    "#모든 매개변수들이 최적화되었는지 관찰\n",
    "optimizer_ft=optim.SGD(model_ft.parameters(),lr=0.001,momentum=0.9)\n",
    "\n",
    "#7 에폭마다 0.1씩 학습율 감소\n",
    "exp_lr_scheduler=lr_scheduler.StepLR(optimizer_ft, step_size=7,gamma=0.1)"
   ]
  },
  {
   "cell_type": "markdown",
   "metadata": {},
   "source": [
    "## 학습 및 평가하기\n",
    "CPU에서는 15-25분 가량, GPU에서는 1분 이내의 시간이 걸립니다"
   ]
  },
  {
   "cell_type": "code",
   "execution_count": null,
   "metadata": {},
   "outputs": [],
   "source": [
    "model_ft=train_model(model_ft,criterion,optimizer_ft,exp_lr_scheduler,num_epochs=25)"
   ]
  },
  {
   "cell_type": "code",
   "execution_count": null,
   "metadata": {},
   "outputs": [],
   "source": [
    "visualize_model(model_ft)"
   ]
  },
  {
   "cell_type": "markdown",
   "metadata": {},
   "source": [
    "## 고성된 특징 추출기로써의 합성곱 신경망\n",
    "이제 마지막 계층을 제외한 신경망의 모든 부분을 고정해야합니다. requires_grad==False로 설정하여 매개변수를 고정하여 backward()중에 경사도가 계산되지 않도록 해야합니다."
   ]
  },
  {
   "cell_type": "code",
   "execution_count": null,
   "metadata": {},
   "outputs": [],
   "source": [
    "model_conv=torchvision.models.resnet18(pretrained=True)\n",
    "for param in model_conv.parameters():\n",
    "    param.requires_grad=False\n",
    "    \n",
    "#새로 생성된 모듈의 매개변수는 기본값이 requires_grad=True임\n",
    "num_ftrs=model_conv.fc.in_features\n",
    "model_conv.fc=nn.Linear(num_ftrs,2)\n",
    "\n",
    "model_conv=model_conv.to(device)\n",
    "\n",
    "criterion=nn.CrossEntropyLoss()\n",
    "\n",
    "#이전과는 다르게 마지막 계층의 매개변수들만 최적화되는지 관찰\n",
    "optimizer_conv=optim.SGD(model_conv.fc.parameters(),lr=0.001.momentum=0.9)\n",
    "\n",
    "#7 에폭마다 0.1씩 학습율 감소\n",
    "exp_lr_scheduler=lr_scheduler.StepLR(optimizer_conv,step_size=7,gamma=0.1)"
   ]
  },
  {
   "cell_type": "markdown",
   "metadata": {},
   "source": [
    "## 학습 및 평가하기\n",
    "CPU에서 실행하는 경우 이전과 비교했을 때 약 절반 가량의 시간만이 소요될 것 입니다.\n",
    "이는 대부분의 신경망에서 경사도를 계산할 필요가 없기 때문입니다. 하지만, 순전파는 계산이 필요합니다."
   ]
  },
  {
   "cell_type": "code",
   "execution_count": null,
   "metadata": {},
   "outputs": [],
   "source": [
    "model_conv=train_model(model_conv,criterion,optimizer_conv,exp_lr_scheduler,\n",
    "                       num_epochs=25)"
   ]
  },
  {
   "cell_type": "code",
   "execution_count": null,
   "metadata": {},
   "outputs": [],
   "source": [
    "visualize_model(model_conv)\n",
    "\n",
    "plt.ioff()\n",
    "plt.show()"
   ]
  }
 ],
 "metadata": {
  "kernelspec": {
   "display_name": "Python 3",
   "language": "python",
   "name": "python3"
  },
  "language_info": {
   "codemirror_mode": {
    "name": "ipython",
    "version": 3
   },
   "file_extension": ".py",
   "mimetype": "text/x-python",
   "name": "python",
   "nbconvert_exporter": "python",
   "pygments_lexer": "ipython3",
   "version": "3.7.4"
  }
 },
 "nbformat": 4,
 "nbformat_minor": 2
}
