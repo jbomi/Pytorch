{
 "cells": [
  {
   "cell_type": "code",
   "execution_count": 9,
   "metadata": {},
   "outputs": [
    {
     "name": "stdout",
     "output_type": "stream",
     "text": [
      "[1, 3, 4, 5, 6] [2, 3, 4, 6, 0]\n",
      "[1, 3, 4, 5, 6]와 [2, 3, 4, 6, 0]의 합집합은 [0, 1, 2, 3, 4, 5, 6]이다.\n",
      "[1, 3, 4, 5, 6]와 [2, 3, 4, 6, 0]의 교집합은 [3, 4, 6]이다.\n",
      "[1, 3, 4, 5, 6]와 [2, 3, 4, 6, 0]의 차집합은 [1, 5]이다.\n"
     ]
    }
   ],
   "source": [
    "a=[1,3,4,5,6]\n",
    "b=[2,3,4,6,0]\n",
    "\n",
    "class Sets():#집합의 연산을 Sets라는 이름의 클래스로 정의한다.\n",
    "    def setdata(self,a,b):#클래스의 def는 함수가 아니라 메소드라고 부르며,\n",
    "                         #메소드는 입력 값으로 항상 self를 맨 앞에 써줘야 한다. \n",
    "        self.a=a #a에 self.을 붙임으로써 a를 클래스의 객체 변수로 만든다.\n",
    "        self.b=b #b를 클래스의 객체 변수로 만든다.\n",
    "        \n",
    "    def union(self):\n",
    "        result=self.b+[]\n",
    "        for i in self.a:\n",
    "            if i not in self.b:\n",
    "                result.append(i)\n",
    "        result.sort()\n",
    "        return result\n",
    "    \n",
    "    def intersection(self):\n",
    "        result=[]\n",
    "        for i in self.a:\n",
    "            if i in self.b:\n",
    "                result.append(i)\n",
    "        result.sort()\n",
    "        return result\n",
    "    \n",
    "    def complement(self):\n",
    "        result=self.a+[]\n",
    "        for i in self.b:\n",
    "            if i in self.a:\n",
    "                result.remove(i)\n",
    "        result.sort()\n",
    "        return result\n",
    "    \n",
    "c=Sets() #c를 Sets라는 클래스의 객체로 정의한다.\n",
    "c.setdata(a,b) #c라는 객체를 연산하기 위해 setdata라는 매소드가 필요한\n",
    "                   # 데이터 a,b 를 개체 변수로 만든다.\n",
    "                   # setdata에서 a,b 위치를 바꾸면 complement함수에서\n",
    "                   # a에 대한 b의 차집합을 얻을 수 있다.\n",
    "print(c.a,c.b)\n",
    "print('{}와 {}의 합집합은 {}이다.'.format(c.a,c.b,c.union()))\n",
    "print('{}와 {}의 교집합은 {}이다.'.format(c.a,c.b,c.intersection()))\n",
    "print('{}와 {}의 차집합은 {}이다.'.format(c.a,c.b,c.complement()))\n",
    "# print('{}와 {}의 차집합은 {}이다'.format(c.b,c.a,c.complement()))\n",
    "            "
   ]
  },
  {
   "cell_type": "markdown",
   "metadata": {},
   "source": [
    "# class 개념"
   ]
  },
  {
   "cell_type": "code",
   "execution_count": null,
   "metadata": {},
   "outputs": [],
   "source": [
    "class 정보미():\n",
    "    def 코딩공부하기(self):\n",
    "        노트북을 켠다.\n",
    "        주피터 노트북을 시작한다.\n",
    "        네이버 파이썬 예제가 있는 블로그를 연다.\n",
    "        주피터 노트북에서 미완성 코딩파일이 있는지 확인한다.\n",
    "        있으면, 미완성 코딩을 완성시킨다.\n",
    "        없으면, 새로운 예제를 코딩한다.\n",
    "    def 논다(self):\n",
    "        코딩 공부하다가 집중력이 떨어져서 논다.\n",
    "        선택:\n",
    "            0. 폰으로 sns를 한다.\n",
    "            1. 폰으로 유튜브를 본다\n",
    "            2. 폰으로 웹툰을 본다\n",
    "            3. 노트북으로 유튜브를 본다.\n",
    "            4. 노트북으로 웹툰을 본다.\n",
    "    def 먹는다(self):\n",
    "        if 내가 귀찮다면:\n",
    "            if 죽을 것 같다:\n",
    "                먹는다\n",
    "            else: 넘긴다\n",
    "    def 잔다(self):\n",
    "        if 시간이 저녁 12시를 지났는가?:\n",
    "            잔다.\n",
    "        else: 안잔다.\n",
    "학부생_정보미=정보미()\n",
    "학부생_정보미.코딩공부하기()"
   ]
  }
 ],
 "metadata": {
  "kernelspec": {
   "display_name": "Python 3",
   "language": "python",
   "name": "python3"
  },
  "language_info": {
   "codemirror_mode": {
    "name": "ipython",
    "version": 3
   },
   "file_extension": ".py",
   "mimetype": "text/x-python",
   "name": "python",
   "nbconvert_exporter": "python",
   "pygments_lexer": "ipython3",
   "version": "3.7.4"
  }
 },
 "nbformat": 4,
 "nbformat_minor": 2
}
