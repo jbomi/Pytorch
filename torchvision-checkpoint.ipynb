{
 "cells": [
  {
   "cell_type": "code",
   "execution_count": 1,
   "metadata": {},
   "outputs": [],
   "source": [
    "import os\n",
    "import numpy as np\n",
    "import torch\n",
    "from PIL import Image"
   ]
  },
  {
   "cell_type": "code",
   "execution_count": 4,
   "metadata": {},
   "outputs": [],
   "source": [
    "class PennFudanDataset(object):\n",
    "    def __init__(self,root,transforms):\n",
    "        self.root=root\n",
    "        self.transforms=transforms\n",
    "        #모든 이미지 파일을 읽고, 정렬하여\n",
    "        #이미지와 분할 마스크 정렬을 확인합니다\n",
    "        self.imgs=list(sorted(os.listdir(os.path.join(root,\"PNGImages\"))))\n",
    "        self.masks=list(sorted(os.listdir(os.path.join(root,\"PedMasks\"))))\n",
    "    \n",
    "    def __getitem__(self,idx):\n",
    "        #이미지와 마스크를 읽어옵니다\n",
    "        img_path=os.path.join(self.root,\"PNGImages\",self.imgs[idx])\n",
    "        mask_path=op.path.join(self.root,\"PedMasks\",self.masks[idx])\n",
    "        img=Image.open(img_path).convert(\"RGB\")\n",
    "        #분할 마스크는 RGB로 변환하지 않음을 유의하세요\n",
    "        #왜냐하면 각 색상은 다른 인스턴스에 해당하여, 0은 배경에 해당합니다\n",
    "        \n",
    "        mask=Image.open(mask_path)\n",
    "        #numpy 배열을 PIㅣ이미지로 변환합니다\n",
    "        mask=np.array(mask)\n",
    "        #인스턴스들은 다른 색들로 인코딩 되어 있습니다.\n",
    "        obj_ids=obj_ids[1:]\n",
    "        \n",
    "        #컬러 인코딩된 마스크를 바이너리 마스크 세트로 나눕니다\n",
    "        masks=mask==obj_ids[:,None,None]\n",
    "        \n",
    "        #각 마스크의 바운딩 박스 좌표를 얻습니다\n",
    "        num_objs=len(obj_ids)\n",
    "        boxes=[]\n",
    "        for i in range(num_objs):\n",
    "            pos=np.where(mask[i])\n",
    "            xmin=np.min(pos[1])\n",
    "            xmax=np.max(pos[1])\n",
    "            ymin=np.min(pos[0])\n",
    "            ymax=np.max(pos[0])\n",
    "            boxes.append([xmin,ymin,xmax,ymax])\n",
    "            \n",
    "        #모든 것을 torch.Tensor 타입으로 변환합니다\n",
    "        boxes=torch.as_tensor(boxes,dtype=torch.float32)\n",
    "        #객체 종류는 한 종류만 존재합니다(역자주: 예제에서는 사람만이 대상입니다)\n",
    "        labels=torch.ones((num_objs,),dtype=torch.float32)\n",
    "        #객체 종류는 한 종류만 존재합니다(역자주: 예제에서는 사람만이 대상입니다)\n",
    "        labels=torch.onse((num_objs,),dtype=torch.int64)\n",
    "        masks=torch.as_tensor(masks,dtype=torch.unit8)\n",
    "        \n",
    "        image_id=torch.tensor([idx])\n",
    "        area=(boxes[:,3]-boxes[:,1])*(boxes[:,2]-boxes[:,0])\n",
    "        #모든 인스턴스는 군중(crowd) 상태가 아님을 가정합니다\n",
    "        iscrowd=torch.zeros((num_objs,),dtype=torch.int64)\n",
    "        \n",
    "        target={}\n",
    "        target[\"boxes\"]=boxes\n",
    "        target[\"labels\"]=labels\n",
    "        target[\"masks\"]=masks\n",
    "        target[\"image_id\"]=image_id\n",
    "        target[\"area\"]=area\n",
    "        target[\"iscrowd\"]=iscrowd\n",
    "        \n",
    "        if self.transforms is not None:\n",
    "            img, target=self.transforms(img, target)\n",
    "            \n",
    "        return img, target\n",
    "    \n",
    "    def __len__(self):\n",
    "        return len(self.imgs)\n",
    "        "
   ]
  },
  {
   "cell_type": "code",
   "execution_count": null,
   "metadata": {},
   "outputs": [],
   "source": []
  }
 ],
 "metadata": {
  "kernelspec": {
   "display_name": "Python 3",
   "language": "python",
   "name": "python3"
  },
  "language_info": {
   "codemirror_mode": {
    "name": "ipython",
    "version": 3
   },
   "file_extension": ".py",
   "mimetype": "text/x-python",
   "name": "python",
   "nbconvert_exporter": "python",
   "pygments_lexer": "ipython3",
   "version": "3.7.4"
  }
 },
 "nbformat": 4,
 "nbformat_minor": 2
}
