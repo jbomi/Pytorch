{
 "cells": [
  {
   "cell_type": "markdown",
   "metadata": {},
   "source": [
    "## 넘파이 배열 생성"
   ]
  },
  {
   "cell_type": "code",
   "execution_count": 3,
   "metadata": {},
   "outputs": [
    {
     "name": "stdout",
     "output_type": "stream",
     "text": [
      "[1. 2. 3.]\n"
     ]
    },
    {
     "data": {
      "text/plain": [
       "numpy.ndarray"
      ]
     },
     "execution_count": 3,
     "metadata": {},
     "output_type": "execute_result"
    }
   ],
   "source": [
    "import numpy as np\n",
    "x=np.array([1.0,2.0,3.0])\n",
    "print(x)\n",
    "type(x)"
   ]
  },
  {
   "cell_type": "markdown",
   "metadata": {},
   "source": [
    "## 넘파이 산술 연산"
   ]
  },
  {
   "cell_type": "code",
   "execution_count": 5,
   "metadata": {},
   "outputs": [
    {
     "name": "stdout",
     "output_type": "stream",
     "text": [
      "[3. 6. 9.]\n",
      "[-1. -2. -3.]\n",
      "[ 2.  8. 18.]\n",
      "[0.5 0.5 0.5]\n",
      "[  1.  16. 729.]\n",
      "[0.5 1.  1.5]\n"
     ]
    }
   ],
   "source": [
    "import numpy as np\n",
    "x=np.array([1.0,2.0,3.0])\n",
    "y=np.array([2.0,4.0,6.0])\n",
    "print(x+y)\n",
    "print(x-y)\n",
    "print(x*y)\n",
    "print(x/y)\n",
    "print(x**y) #**은 제곱\n",
    "print(x/2.0) #스칼라곱도 계산가능"
   ]
  },
  {
   "cell_type": "markdown",
   "metadata": {},
   "source": [
    "## 넘파이의 N차원 배열"
   ]
  },
  {
   "cell_type": "code",
   "execution_count": 12,
   "metadata": {},
   "outputs": [
    {
     "name": "stdout",
     "output_type": "stream",
     "text": [
      "[[1 2]\n",
      " [3 4]]\n",
      "(2, 2)\n",
      "int32\n",
      "[[3 0]\n",
      " [0 6]]\n",
      "(2, 2)\n",
      "int32\n",
      "[[ 3  0]\n",
      " [ 0 24]]\n",
      "[[10 20]\n",
      " [30 40]]\n"
     ]
    }
   ],
   "source": [
    "import numpy as np\n",
    "A=np.array([[1,2],[3,4]])\n",
    "print(A)\n",
    "print(A.shape)\n",
    "print(A.dtype)\n",
    "B=np.array([[3,0],[0,6]])\n",
    "print(B)\n",
    "print(B.shape)\n",
    "print(B.dtype)\n",
    "print(A*B)\n",
    "print(A*10)"
   ]
  },
  {
   "cell_type": "markdown",
   "metadata": {},
   "source": [
    "## 넘파이의 브로드캐스트 기능"
   ]
  },
  {
   "cell_type": "code",
   "execution_count": 13,
   "metadata": {},
   "outputs": [
    {
     "name": "stdout",
     "output_type": "stream",
     "text": [
      "[[10 40]\n",
      " [30 80]]\n"
     ]
    }
   ],
   "source": [
    "import numpy as np\n",
    "A=np.array([[1,2],[3,4]])\n",
    "B=np.array([10,20])\n",
    "print(A*B)"
   ]
  },
  {
   "cell_type": "markdown",
   "metadata": {},
   "source": [
    "## 넘파이의 원소 접근"
   ]
  },
  {
   "cell_type": "code",
   "execution_count": 17,
   "metadata": {},
   "outputs": [
    {
     "name": "stdout",
     "output_type": "stream",
     "text": [
      "[[51 55]\n",
      " [14 19]\n",
      " [ 0  4]]\n",
      "[51 55]\n",
      "55\n",
      "[51 55]\n",
      "[14 19]\n",
      "[0 4]\n",
      "[51 55 14 19  0  4]\n",
      "[51 14  0]\n",
      "[ True  True False  True False False]\n",
      "[51 55 19]\n"
     ]
    }
   ],
   "source": [
    "import numpy as np\n",
    "X=np.array([[51,55],[14,19],[0,4]])\n",
    "print(X)\n",
    "print(X[0])\n",
    "print(X[0][1])\n",
    "for row in X:\n",
    "    print(row)\n",
    "X=X.flatten()\n",
    "print(X)\n",
    "print(X[np.array([0,2,4])])\n",
    "print(X>15)\n",
    "print(X[X>15])"
   ]
  }
 ],
 "metadata": {
  "kernelspec": {
   "display_name": "Python 3",
   "language": "python",
   "name": "python3"
  },
  "language_info": {
   "codemirror_mode": {
    "name": "ipython",
    "version": 3
   },
   "file_extension": ".py",
   "mimetype": "text/x-python",
   "name": "python",
   "nbconvert_exporter": "python",
   "pygments_lexer": "ipython3",
   "version": "3.7.4"
  }
 },
 "nbformat": 4,
 "nbformat_minor": 2
}
